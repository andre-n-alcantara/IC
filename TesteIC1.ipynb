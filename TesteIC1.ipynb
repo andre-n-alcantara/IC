{
 "cells": [
  {
   "cell_type": "code",
   "execution_count": 1,
   "metadata": {
    "id": "sDMBkspLuzXL"
   },
   "outputs": [],
   "source": [
    "import os\n",
    "os.environ['GROQ_API_KEY'] = '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'"
   ]
  },
  {
   "cell_type": "code",
   "execution_count": null,
   "metadata": {
    "id": "zxD7Gfwvv0Zl"
   },
   "outputs": [],
   "source": [
    "from groq import Groq\n",
    "\n",
    "client = Groq()\n",
    "def generate_content(prompt):\n",
    "    response = client.chat.completions.create(\n",
    "    model=\"llama3-70b-8192\",\n",
    "    messages=[\n",
    "        {\n",
    "            \"role\": \"user\",\n",
    "            \"content\": prompt\n",
    "        }\n",
    "    ]\n",
    "    )\n",
    "    return response\n",
    "\n",
    "output = generate_content(\"\"\"Gere a solução para esta questão de programação: Time limit 2000 ms\n",
    "Mem limit 262144 kB\n",
    "Input file stdin\n",
    "Output file stdout\n",
    "It is well known that Berland has n cities, which form the Silver ring — cities i and i + 1\n",
    "(1 ≤ i < n) are connected by a road, as well as the cities n and 1. The goverment have decided\n",
    "to build m new roads. The list of the roads to build was prepared. Each road will connect two\n",
    "cities. Each road should be a curve which lies inside or outside the ring. New roads will have\n",
    "no common points with the ring (except the endpoints of the road).\n",
    "Now the designers of the constructing plan wonder if it is possible to build the roads in such\n",
    "a way that no two roads intersect (note that the roads may intersect at their endpoints). If it\n",
    "is possible to do, which roads should be inside the ring, and which should be outside?\n",
    "Input\n",
    "The first line contains two integers n and m (4 ≤ n ≤ 100, 1 ≤ m ≤ 100). Each of the following\n",
    "m lines contains two integers ai and bi\n",
    "(1 ≤ ai\n",
    ", bi ≤ n, ai ≠ bi\n",
    "). No two cities will be connected\n",
    "by more than one road in the list. The list will not contain the roads which exist in the Silver\n",
    "ring.\n",
    "Output\n",
    "If it is impossible to build the roads in such a way that no two roads intersect, output\n",
    "Impossible. Otherwise print m characters. i-th character should be i, if the road should\n",
    "be inside the ring, and o if the road should be outside the ring. If there are several solutions,\n",
    "output any of them.\n",
    "Examples\n",
    "Input 1:\n",
    "4 2\n",
    "1 3\n",
    "2 4\n",
    "Output 1:\n",
    "io\n",
    "Input 2:\n",
    "6 3\n",
    "1 3\n",
    "3 5\n",
    "5 1\n",
    "Output 2:\n",
    "ooo\"\"\")\n"
   ]
  },
  {
   "cell_type": "code",
   "execution_count": null,
   "metadata": {
    "colab": {
     "base_uri": "https://localhost:8080/"
    },
    "id": "Br3ZZhHHwp1d",
    "outputId": "f7248ed3-3d5b-4bda-f179-256cd09428b6"
   },
   "outputs": [
    {
     "data": {
      "text/plain": [
       "ChatCompletion(id='chatcmpl-7c5cb40d-06ad-4e63-a289-e27cdd93c14c', choices=[Choice(finish_reason='stop', index=0, logprobs=None, message=ChatCompletionMessage(content='This is a classic problem of graph planarity testing. We can solve this problem by using the following approach:\\n\\n1. Build a graph with `n` nodes (cities) and `m` edges (new roads).\\n2. Check if the graph is planar using a planarity testing algorithm (e.g., Boyer-Myrvold Planarity Test).\\n3. If the graph is planar, find an embedding of the graph in the plane such that no two edges intersect.\\n4. For each edge, check if it intersects with the Silver ring. If it does, mark it as \"outside\" (o), otherwise mark it as \"inside\" (i).\\n5. Output the resulting string of `m` characters.\\n\\nHere is a sample implementation in Python:\\n```python\\nimport sys\\nfrom collections import defaultdict\\n\\ndef read_input():\\n    n, m = map(int, input().split())\\n    graph = defaultdict(list)\\n    for _ in range(m):\\n        a, b = map(int, input().split())\\n        graph[a].append(b)\\n        graph[b].append(a)\\n    return n, m, graph\\n\\ndef is_planar(graph):\\n    # Boyer-Myrvold Planarity Test\\n    def dfs(node, parent, visited, low, disc, time):\\n        visited[node] = True\\n        low[node] = disc[node] = time\\n        time += 1\\n        for neighbor in graph[node]:\\n            if not visited[neighbor]:\\n                dfs(neighbor, node, visited, low, disc, time)\\n                low[node] = min(low[node], low[neighbor])\\n            elif neighbor != parent:\\n                low[node] = min(low[node], disc[neighbor])\\n        return low, disc, time\\n\\n    visited = [False] * (n + 1)\\n    low = [0] * (n + 1)\\n    disc = [0] * (n + 1)\\n    time = 0\\n    for node in range(1, n + 1):\\n        if not visited[node]:\\n            dfs(node, -1, visited, low, disc, time)\\n    for node in range(1, n + 1):\\n        if low[node] > disc[node]:\\n            return False\\n    return True\\n\\ndef find_embedding(graph):\\n    # Find an embedding of the graph in the plane\\n    # ... (implementation omitted for brevity)\\n\\ndef check_intersections(graph, embedding):\\n    # Check if each edge intersects with the Silver ring\\n    result = []\\n    for edge in graph.edges():\\n        if embedding[edge[0]] * embedding[edge[1]] < 0:\\n            result.append(\\'o\\')\\n        else:\\n            result.append(\\'i\\')\\n    return \\'\\'.join(result)\\n\\nn, m, graph = read_input()\\nif not is_planar(graph):\\n    print(\"Impossible\")\\nelse:\\n    embedding = find_embedding(graph)\\n    print(check_intersections(graph, embedding))\\n```\\nNote that the `find_embedding` function is not implemented here, as it is a complex topic and requires a detailed explanation. You can use existing libraries or implementations for graph embedding, such as NetworkX in Python.\\n\\nAlso, the `check_intersections` function assumes that the embedding is given in a specific format (e.g., coordinates in the plane). You may need to adjust the implementation depending on the actual embedding representation.\\n\\nThis solution should have a time complexity of O(m) and a memory complexity of O(n + m), which should be within the limits specified in the problem.', role='assistant', function_call=None, tool_calls=None))], created=1731038116, model='llama3-70b-8192', object='chat.completion', system_fingerprint='fp_2f30b0b571', usage=CompletionUsage(completion_tokens=721, prompt_tokens=421, total_tokens=1142, completion_time=2.06, prompt_time=0.02502146, queue_time=0.0014951880000000015, total_time=2.08502146), x_groq={'id': 'req_01jc4yjyjmf2z8mcnwyrkrnv9p'})"
      ]
     },
     "execution_count": 6,
     "metadata": {},
     "output_type": "execute_result"
    }
   ],
   "source": [
    "output"
   ]
  }
 ],
 "metadata": {
  "colab": {
   "provenance": []
  },
  "kernelspec": {
   "display_name": "envIC",
   "language": "python",
   "name": "python3"
  },
  "language_info": {
   "codemirror_mode": {
    "name": "ipython",
    "version": 3
   },
   "file_extension": ".py",
   "mimetype": "text/x-python",
   "name": "python",
   "nbconvert_exporter": "python",
   "pygments_lexer": "ipython3",
   "version": "3.13.0"
  }
 },
 "nbformat": 4,
 "nbformat_minor": 0
}
