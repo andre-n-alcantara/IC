{
 "cells": [
  {
   "cell_type": "code",
   "execution_count": 10,
   "metadata": {
    "id": "sDMBkspLuzXL"
   },
   "outputs": [],
   "source": [
    "import os\n",
    "import time\n",
    "os.environ['GROQ_API_KEY'] = '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'\n",
    "from groq import Groq\n",
    "client = Groq()\n"
   ]
  },
  {
   "cell_type": "code",
   "execution_count": 16,
   "metadata": {
    "id": "zxD7Gfwvv0Zl"
   },
   "outputs": [
    {
     "name": "stdout",
     "output_type": "stream",
     "text": [
      "--------------------------------------------------------------------------------------------------------------------------------------------------------------------------------------------------------------------------------------------------------------------------------------------------------------------------------------------------------------------------------------------------------------------------------------------------------------------------------------------------------------------\n",
      "I'm an AI, and I'm a language model developed by Meta AI. My model is a type of transformer-based language model, specifically a variant of the LLaMA model. I'm trained on a massive dataset of text from the internet and can generate human-like responses to a wide range of topics and questions. I'm constantly learning and improving my responses based on the interactions I have with users like you!\n",
      "--------------------------------------------------------------------------------------------------------------------------------------------------------------------------------------------------------------------------------------------------------------------------------------------------------------------------------------------------------------------------------------------------------------------------------------------------------------------------------------------------------------------\n",
      "Artificial Intelligence (AI) and Machine Learning (ML) are often used interchangeably, but they're not exactly the same thing.\n",
      "\n",
      "Artificial Intelligence (AI) refers to the broader field of research and development aimed at creating machines that can perform tasks that typically require human intelligence, such as:\n",
      "\n",
      "* Understanding language\n",
      "* Recognizing images\n",
      "* Making decisions\n",
      "* Solving problems\n",
      "* Learning from experience\n",
      "\n",
      "AI involves a wide range of techniques, including rule-based systems, decision trees, and optimization methods.\n",
      "\n",
      "Machine Learning (ML) is a subset of AI that specifically focuses on developing algorithms and statistical models that enable machines to learn from data, without being explicitly programmed. In other words, ML is a type of AI that allows systems to improve their performance on a task over time, based on the data they receive.\n",
      "\n",
      "ML is a key enabler of many AI applications, including:\n",
      "\n",
      "* Image and speech recognition\n",
      "* Natural Language Processing (NLP)\n",
      "* Predictive analytics\n",
      "* Recommendation systems\n",
      "\n",
      "I, the chatbot, am an example of both AI and ML. I'm an AI because I'm a machine designed to perform tasks that typically require human intelligence, such as understanding and responding to language. I'm also an ML model because I use machine learning algorithms to learn from the data I've been trained on and improve my responses over time.\n",
      "\n",
      "To illustrate the difference, consider a simple analogy:\n",
      "\n",
      "AI is like building a car that can drive itself, while ML is like teaching the car to navigate through different routes and adapt to new roads based on the data it receives from its sensors and GPS.\n",
      "\n",
      "So, while all ML is AI, not all AI is ML. But in the context of modern technology, the terms are often used together to describe systems like me that use machine learning to enable artificial intelligence.\n",
      "--------------------------------------------------------------------------------------------------------------------------------------------------------------------------------------------------------------------------------------------------------------------------------------------------------------------------------------------------------------------------------------------------------------------------------------------------------------------------------------------------------------------\n",
      "There are many exciting AI innovations emerging all the time, and it's hard to pinpoint a single \"newest\" one. However, some recent breakthroughs and advancements that have gained significant attention include:\n",
      "\n",
      "1. **Generative Adversarial Networks (GANs)**: GANs have been around for a few years, but recent improvements have made them even more powerful. They can now generate highly realistic images, videos, and music, and have applications in areas like data augmentation, synthetic data generation, and art creation.\n",
      "2. **Transformers**: The transformer architecture, introduced in 2017, has revolutionized the field of Natural Language Processing (NLP). Recent advancements in transformers have led to the development of highly accurate language models like BERT, RoBERTa, and XLNet, which have achieved state-of-the-art results in various NLP tasks.\n",
      "3. **Explainable AI (XAI)**: As AI models become more complex, it's essential to understand how they make decisions. XAI techniques aim to provide transparency and interpretability into AI models, enabling users to understand the reasoning behind their predictions.\n",
      "4. **Multimodal AI**: This involves developing AI models that can process and integrate multiple forms of data, such as text, images, audio, and video. Multimodal AI has applications in areas like virtual assistants, autonomous vehicles, and healthcare.\n",
      "5. **Adversarial Training**: This involves training AI models to be robust against attacks and manipulations. Adversarial training has become crucial in domains like cybersecurity, where AI models need to detect and resist sophisticated threats.\n",
      "\n",
      "Some recent AI innovations that have garnered attention include:\n",
      "\n",
      "1. **DeepMind's AlphaFold**: A AI system that can accurately predict the 3D structure of proteins, which has significant implications for drug discovery and disease research.\n",
      "2. **Google's Meena**: A chatbot that can engage in conversation like a human, using a combination of machine learning and knowledge graph techniques.\n",
      "3. **DALL-E**: A text-to-image generation model that can create stunning images from natural language descriptions.\n",
      "4. **AI-generated Art**: AI-powered art tools like Prisma, Deep Dream, and Amper Music have enabled the creation of stunning artwork, music, and even entire albums.\n",
      "\n",
      "These are just a few examples of the many exciting AI innovations emerging in recent times. The field of AI is rapidly evolving, and we can expect even more breakthroughs in the coming years!\n",
      "--------------------------------------------------------------------------------------------------------------------------------------------------------------------------------------------------------------------------------------------------------------------------------------------------------------------------------------------------------------------------------------------------------------------------------------------------------------------------------------------------------------------\n"
     ]
    }
   ],
   "source": [
    "timestamp = time.strftime(\"%Y-%m-%d_%H-%M-%S\", time.gmtime())\n",
    "filename = timestamp + \".txt\"\n",
    "div = '-'*500\n",
    "# Initialize the conversation history\n",
    "conversation_history = [\n",
    "    {\n",
    "        \"role\": \"user\",\n",
    "        \"content\": \"Hello, how are you?\"\n",
    "    },\n",
    "    {\n",
    "        \"role\": \"assistant\",\n",
    "        \"content\": \"I'm good, thank you! How can I assist you today?\"\n",
    "    }\n",
    "]\n",
    "def generate_content(prompt, history):\n",
    "    history.append({\n",
    "        \"role\": \"user\",\n",
    "        \"content\": prompt\n",
    "    })\n",
    "    response = client.chat.completions.create(\n",
    "    model=\"llama3-70b-8192\",\n",
    "    messages=history\n",
    "    )\n",
    "    rcontent = response.choices[0].message.content\n",
    "    history.append({\n",
    "        \"role\": \"assistant\",\n",
    "        \"content\": rcontent\n",
    "    })\n",
    "    with open(filename, \"a\") as f:\n",
    "        f.write(div + \"\\n\")\n",
    "        f.write(\"User: \" + prompt + \"\\n\")\n",
    "        f.write(\"AI: \" + rcontent + \"\\n\")\n",
    "    return rcontent\n",
    "\n",
    "while(True):\n",
    "    print(div)\n",
    "    prompt = input(\"Enter your prompt: \")\n",
    "    if prompt == \"exit\":\n",
    "        break\n",
    "    response = generate_content(prompt, conversation_history)\n",
    "    print(response)\n",
    "    \n",
    "        \n"
   ]
  }
 ],
 "metadata": {
  "colab": {
   "provenance": []
  },
  "kernelspec": {
   "display_name": "envIC",
   "language": "python",
   "name": "python3"
  },
  "language_info": {
   "codemirror_mode": {
    "name": "ipython",
    "version": 3
   },
   "file_extension": ".py",
   "mimetype": "text/x-python",
   "name": "python",
   "nbconvert_exporter": "python",
   "pygments_lexer": "ipython3",
   "version": "3.13.0"
  }
 },
 "nbformat": 4,
 "nbformat_minor": 0
}
