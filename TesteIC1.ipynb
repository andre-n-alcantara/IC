{
 "cells": [
  {
   "cell_type": "code",
   "execution_count": 12,
   "metadata": {
    "id": "sDMBkspLuzXL"
   },
   "outputs": [],
   "source": [
    "import os\n",
    "import re\n",
    "import time\n",
    "import json\n",
    "os.environ['GROQ_API_KEY'] = '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'\n",
    "from groq import Groq\n",
    "client = Groq()\n",
    "\n",
    "conversation_history = []\n",
    "filename = ''\n",
    "div = '-'*500\n",
    "\n",
    "def generate_content(prompt, history):\n",
    "    history.append({\n",
    "        \"role\": \"user\",\n",
    "        \"content\": prompt\n",
    "    })\n",
    "    response = client.chat.completions.create(\n",
    "    model=\"llama3-70b-8192\",\n",
    "    messages=history\n",
    "    )\n",
    "    rcontent = response.choices[0].message.content\n",
    "    history.append({\n",
    "        \"role\": \"assistant\",\n",
    "        \"content\": rcontent\n",
    "    })\n",
    "    return rcontent\n",
    "\n",
    "def prompt(history, filename):\n",
    "    print(div)\n",
    "    prompt = input(\"Enter your prompt: \")\n",
    "    response = generate_content(prompt, history, filename)\n",
    "    print(response)\n",
    "    with open(filename, \"a\", encoding='utf-8') as f:\n",
    "        f.write(div + \"\\n\")\n",
    "        f.write(\"User: \" + prompt + \"\\n\")\n",
    "        f.write(\"AI: \" + response + \"\\n\")\n",
    "    \n",
    "def reset():\n",
    "    timestamp = time.strftime(\"%Y-%m-%d_%H-%M-%S\", time.gmtime())\n",
    "    filename = timestamp + \".txt\"\n",
    "\n",
    "    # Initialize the conversation history\n",
    "    history = [\n",
    "        {\n",
    "            \"role\": \"user\",\n",
    "            \"content\": \"Olá, como está você?\"\n",
    "        },\n",
    "        {\n",
    "            \"role\": \"assistant\",\n",
    "            \"content\": \"Olá! Eu sou um modelo de linguagem de computador, então não tenho sentimentos nem emoções como os humanos, mas estou funcionando normalmente e pronto para ajudar com suas perguntas e tarefas! Como posso ajudá-lo hoje?\"\n",
    "        },\n",
    "        {\n",
    "            \"role\": \"user\",\n",
    "            \"content\": \"Você pode me ajudar com questões práticas de programação em C++? Cada vez que eu submeter a descrição de uma questão, quero que você gere um código solução em C++, e apenas o conteúdo do código, pronto para compilar.\"\n",
    "        },\n",
    "        {\n",
    "            \"role\": \"assistant\",\n",
    "            \"content\": \"Sim, estou aqui para ajudar. Submeta a descrição da questão e eu gerarei o código solução em C++.\"\n",
    "        }\n",
    "    ]\n",
    "\n",
    "    return filename, history\n",
    "\n",
    "def load_history():\n",
    "    with open('conversation_history.json', 'r', encoding='utf-8') as f:\n",
    "        return json.load(f)\n",
    "        \n",
    "def write_history(history):\n",
    "    with open('conversation_history.json', 'w', encoding='utf-8') as f:\n",
    "        json.dump(history, f, ensure_ascii=False, indent=4)\n",
    "\n",
    "#reset() ou load_history()\n",
    "#filename=''"
   ]
  },
  {
   "cell_type": "code",
   "execution_count": null,
   "metadata": {
    "id": "zxD7Gfwvv0Zl"
   },
   "outputs": [],
   "source": [
    "\n",
    "#get-solution\n",
    "startwith = ['pj','p1','p2','pu']\n",
    "for tup in os.walk('./OBI'):\n",
    "    pattern = re.compile(r'(\\d{4})')\n",
    "    src = pattern.search(tup[0])\n",
    "    if src is None:\n",
    "        continue\n",
    "    year = src.group()\n",
    "    for file in tup[2]:\n",
    "        if file.endswith('.txt') and not file.endswith('-pdf.txt'):\n",
    "            conversation_history = reset()[1]\n",
    "            filename = year+'-'+file[:-4]+'.cpp'\n",
    "            with open(os.path.join(tup[0],file), 'r', encoding='utf-8') as f:\n",
    "                prompt = f.read()\n",
    "            response = generate_content(prompt, conversation_history)\n",
    "            with open(filename, \"w\", encoding='utf-8') as f:\n",
    "                f.write(response.split('```')[1])\n",
    "            \n"
   ]
  },
  {
   "cell_type": "code",
   "execution_count": 9,
   "metadata": {},
   "outputs": [],
   "source": [
    "write_history()"
   ]
  }
 ],
 "metadata": {
  "colab": {
   "provenance": []
  },
  "kernelspec": {
   "display_name": "envIC",
   "language": "python",
   "name": "python3"
  },
  "language_info": {
   "codemirror_mode": {
    "name": "ipython",
    "version": 3
   },
   "file_extension": ".py",
   "mimetype": "text/x-python",
   "name": "python",
   "nbconvert_exporter": "python",
   "pygments_lexer": "ipython3",
   "version": "3.13.0"
  }
 },
 "nbformat": 4,
 "nbformat_minor": 0
}
