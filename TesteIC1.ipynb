{
 "cells": [
  {
   "cell_type": "code",
   "execution_count": 1,
   "metadata": {
    "id": "sDMBkspLuzXL"
   },
   "outputs": [],
   "source": [
    "import os\n",
    "import time\n",
    "os.environ['GROQ_API_KEY'] = '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'\n",
    "from groq import Groq\n",
    "client = Groq()\n"
   ]
  },
  {
   "cell_type": "code",
   "execution_count": null,
   "metadata": {
    "id": "zxD7Gfwvv0Zl"
   },
   "outputs": [
    {
     "name": "stdout",
     "output_type": "stream",
     "text": [
      "--------------------------------------------------------------------------------------------------------------------------------------------------------------------------------------------------------------------------------------------------------------------------------------------------------------------------------------------------------------------------------------------------------------------------------------------------------------------------------------------------------------------\n",
      "Olá! Sim, claro que posso tentar ajudá-lo! Qual é o problema ou pergunta que você tem? Estou aqui para ajudar em o que for possível.\n",
      "--------------------------------------------------------------------------------------------------------------------------------------------------------------------------------------------------------------------------------------------------------------------------------------------------------------------------------------------------------------------------------------------------------------------------------------------------------------------------------------------------------------------\n"
     ]
    }
   ],
   "source": [
    "#guardar historico de conversar e funcao de flush\n",
    "timestamp = time.strftime(\"%Y-%m-%d_%H-%M-%S\", time.gmtime())\n",
    "filename = timestamp + \".txt\"\n",
    "div = '-'*500\n",
    "# Initialize the conversation history\n",
    "conversation_history = [\n",
    "    {\n",
    "        \"role\": \"user\",\n",
    "        \"content\": \"Olá, como está você?\"\n",
    "    },\n",
    "    {\n",
    "        \"role\": \"assistant\",\n",
    "        \"content\": \"Olá! Eu sou um modelo de linguagem de computador, então não tenho sentimentos nem emoções como os humanos, mas estou funcionando normalmente e pronto para ajudar com suas perguntas e tarefas! Como posso ajudá-lo hoje?\"\n",
    "    }\n",
    "]\n",
    "def generate_content(prompt, history):\n",
    "    history.append({\n",
    "        \"role\": \"user\",\n",
    "        \"content\": prompt\n",
    "    })\n",
    "    response = client.chat.completions.create(\n",
    "    model=\"llama3-70b-8192\",\n",
    "    messages=history\n",
    "    )\n",
    "    rcontent = response.choices[0].message.content\n",
    "    history.append({\n",
    "        \"role\": \"assistant\",\n",
    "        \"content\": rcontent\n",
    "    })\n",
    "    with open(filename, \"a\", encoding='utf-8') as f:\n",
    "        f.write(div + \"\\n\")\n",
    "        f.write(\"User: \" + prompt + \"\\n\")\n",
    "        f.write(\"AI: \" + rcontent + \"\\n\")\n",
    "    return rcontent\n",
    "\n",
    "while(True):\n",
    "    print(div)\n",
    "    prompt = input(\"Enter your prompt: \")\n",
    "    if prompt == \"exit\":\n",
    "        break\n",
    "    response = generate_content(prompt, conversation_history)\n",
    "    print(response)\n",
    "    \n",
    "        \n"
   ]
  }
 ],
 "metadata": {
  "colab": {
   "provenance": []
  },
  "kernelspec": {
   "display_name": "envIC",
   "language": "python",
   "name": "python3"
  },
  "language_info": {
   "codemirror_mode": {
    "name": "ipython",
    "version": 3
   },
   "file_extension": ".py",
   "mimetype": "text/x-python",
   "name": "python",
   "nbconvert_exporter": "python",
   "pygments_lexer": "ipython3",
   "version": "3.13.0"
  }
 },
 "nbformat": 4,
 "nbformat_minor": 0
}
