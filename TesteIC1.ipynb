{
 "cells": [
  {
   "cell_type": "code",
   "execution_count": 9,
   "metadata": {
    "id": "sDMBkspLuzXL"
   },
   "outputs": [],
   "source": [
    "import os\n",
    "import time\n",
    "os.environ['GROQ_API_KEY'] = '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'\n",
    "from groq import Groq\n",
    "client = Groq()\n",
    "\n",
    "div = '-'*500\n",
    "def generate_content(prompt, history, filename):\n",
    "    history.append({\n",
    "        \"role\": \"user\",\n",
    "        \"content\": prompt\n",
    "    })\n",
    "    response = client.chat.completions.create(\n",
    "    model=\"llama3-70b-8192\",\n",
    "    messages=history\n",
    "    )\n",
    "    rcontent = response.choices[0].message.content\n",
    "    history.append({\n",
    "        \"role\": \"assistant\",\n",
    "        \"content\": rcontent\n",
    "    })\n",
    "    with open(filename, \"a\", encoding='utf-8') as f:\n",
    "        f.write(div + \"\\n\")\n",
    "        f.write(\"User: \" + prompt + \"\\n\")\n",
    "        f.write(\"AI: \" + rcontent + \"\\n\")\n",
    "    return rcontent\n",
    "\n",
    "def prompt(history, filename):\n",
    "    print(div)\n",
    "    prompt = input(\"Enter your prompt: \")\n",
    "    response = generate_content(prompt, history, filename)\n",
    "    print(response)"
   ]
  },
  {
   "cell_type": "code",
   "execution_count": 13,
   "metadata": {},
   "outputs": [],
   "source": [
    "timestamp = time.strftime(\"%Y-%m-%d_%H-%M-%S\", time.gmtime())\n",
    "filename = timestamp + \".txt\"\n",
    "\n",
    "# Initialize the conversation history\n",
    "conversation_history = [\n",
    "    {\n",
    "        \"role\": \"user\",\n",
    "        \"content\": \"Olá, como está você?\"\n",
    "    },\n",
    "    {\n",
    "        \"role\": \"assistant\",\n",
    "        \"content\": \"Olá! Eu sou um modelo de linguagem de computador, então não tenho sentimentos nem emoções como os humanos, mas estou funcionando normalmente e pronto para ajudar com suas perguntas e tarefas! Como posso ajudá-lo hoje?\"\n",
    "    }\n",
    "]"
   ]
  },
  {
   "cell_type": "code",
   "execution_count": 21,
   "metadata": {
    "id": "zxD7Gfwvv0Zl"
   },
   "outputs": [
    {
     "name": "stdout",
     "output_type": "stream",
     "text": [
      "--------------------------------------------------------------------------------------------------------------------------------------------------------------------------------------------------------------------------------------------------------------------------------------------------------------------------------------------------------------------------------------------------------------------------------------------------------------------------------------------------------------------\n",
      "Peço desculpas pelo erro. Eu entendi o problema agora. O erro está no fato de que a busca binária não está considerando corretamente a ocupação das vagas.\n",
      "\n",
      "Aqui está o código corrigido:\n",
      "```c\n",
      "#include <iostream>\n",
      "#include <vector>\n",
      "#include <algorithm>\n",
      "\n",
      "using namespace std;\n",
      "\n",
      "int main() {\n",
      "    int N, M;\n",
      "    cin >> N >> M;\n",
      "\n",
      "    vector<bool> vagas(N + 1, true); // inicialmente, todas as vagas estão disponíveis\n",
      "    vector<int> plano(M);\n",
      "    for (int i = 0; i < M; i++) {\n",
      "        cin >> plano[i];\n",
      "    }\n",
      "\n",
      "    int contador = 0;\n",
      "    for (int i = 0; i < M; i++) {\n",
      "        int left = 1, right = plano[i];\n",
      "        while (left <= right) {\n",
      "            int mid = left + (right - left) / 2;\n",
      "            if (vagas[mid]) {\n",
      "                vagas[mid] = false;\n",
      "                contador++;\n",
      "                break;\n",
      "            } else {\n",
      "                left = mid + 1;\n",
      "            }\n",
      "        }\n",
      "        if (left > plano[i]) break; // se não encontrou uma vaga, para aqui\n",
      "    }\n",
      "\n",
      "    cout << contador << endl;\n",
      "\n",
      "    return 0;\n",
      "}\n",
      "```\n",
      "A mudança foi feita na lógica da busca binária. Agora, se não encontramos uma vaga disponível, incrementamos `left` em 1 e-breakamos o loop. Isso garante que apenas as vagas disponíveis sejam ocupadas.\n",
      "\n",
      "Espero que isso solucione o problema. Se você tiver alguma dúvida ou precisar de mais esclarecimentos, sinta-se à vontade para perguntar.\n"
     ]
    }
   ],
   "source": [
    "#Você pode me ajudar com questões práticas de programação? Vou submeter a descrição de algumas questões e quero que você gere um código solução em C++ e sua explicação para sua corretude.\n",
    "prompt(conversation_history, filename)"
   ]
  }
 ],
 "metadata": {
  "colab": {
   "provenance": []
  },
  "kernelspec": {
   "display_name": "envIC",
   "language": "python",
   "name": "python3"
  },
  "language_info": {
   "codemirror_mode": {
    "name": "ipython",
    "version": 3
   },
   "file_extension": ".py",
   "mimetype": "text/x-python",
   "name": "python",
   "nbconvert_exporter": "python",
   "pygments_lexer": "ipython3",
   "version": "3.13.0"
  }
 },
 "nbformat": 4,
 "nbformat_minor": 0
}
