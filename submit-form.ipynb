{
 "cells": [
  {
   "cell_type": "code",
   "execution_count": 10,
   "metadata": {
    "colab": {
     "base_uri": "https://localhost:8080/"
    },
    "id": "UDJa7srVwblY",
    "outputId": "3a1e05ac-0354-40b7-a176-081e9ae04816"
   },
   "outputs": [],
   "source": [
    "import requests\n",
    "import os\n",
    "import re\n",
    "import time\n",
    "import random\n",
    "from urllib.request import urlopen\n",
    "from bs4 import BeautifulSoup\n",
    "from selenium import webdriver\n",
    "from selenium.webdriver.common.by import By\n",
    "from selenium.webdriver.support.ui import WebDriverWait\n",
    "from selenium.webdriver.support import expected_conditions as EC\n",
    "from selenium.webdriver.support.ui import Select # Import Select class\n",
    "from selenium.common.exceptions import TimeoutException, WebDriverException, NoSuchElementException\n",
    "from selenium.webdriver.common.action_chains import ActionChains\n",
    "from fake_useragent import UserAgent\n",
    "\n",
    "base_url ='https://olimpiada.ic.unicamp.br/pratique/'\n",
    "root = './sol'\n",
    "\n",
    "def human_scroll(driver):\n",
    "    scroll_height = driver.execute_script(\"return document.body.scrollHeight\")\n",
    "    for _ in range(random.randint(3, 6)):  \n",
    "        scroll = random.randint(200, 600)  \n",
    "        driver.execute_script(f\"window.scrollBy(0, {scroll});\")\n",
    "        time.sleep(random.uniform(0.5, 1.5))  \n",
    "\n",
    "def human_mouse_move(driver, element):\n",
    "    actions = ActionChains(driver)\n",
    "    actions.move_to_element(element).perform()\n",
    "    \n",
    "    time.sleep(random.uniform(0.5, 1.5))\n",
    "def submit_file(base_url, file_path):\n",
    "    file_path = os.path.abspath(file_path)\n",
    "    time.sleep(random.uniform(5, 10))\n",
    "    # Initialize UserAgent object\n",
    "    ua = UserAgent()\n",
    "    # Use selenium to handle delayed redirects\n",
    "    options = webdriver.FirefoxOptions()\n",
    "    options.set_preference(\"general.useragent.override\", ua.random)\n",
    "    #options.add_argument('--headless')  # Enabling headless mode\n",
    "    driver = webdriver.Firefox(options=options)\n",
    "    \n",
    "     # Avoid Selenium detection\n",
    "    options.set_preference(\"dom.webdriver.enabled\", False)\n",
    "    options.set_preference('useAutomationExtension', False)\n",
    "    options.set_preference(\"general.platform.override\", \"Win32\")  \n",
    "    options.set_preference(\"privacy.trackingprotection.enabled\", False)  \n",
    "\n",
    "    try:\n",
    "        driver.get(base_url)  # Navigate to the initial redirect URL\n",
    "    except WebDriverException:\n",
    "        print(f\"{base_url} URL not found\")\n",
    "        driver.quit()\n",
    "        return\n",
    "    select_elem = None\n",
    "    time.sleep(random.uniform(5, 10))\n",
    "    \n",
    "    # Extract CSRF token from cookies (some frameworks use cookies instead of hidden input)\n",
    "    csrf_token = None\n",
    "    for cookie in driver.get_cookies():\n",
    "        if cookie['name'] == 'csrftoken':  # Django uses \"csrftoken\", other frameworks may differ\n",
    "            csrf_token = cookie['value']\n",
    "            break\n",
    "\n",
    "    # If not found in cookies, look for the hidden form field\n",
    "    if csrf_token is None:\n",
    "        try:\n",
    "            csrf_token = driver.find_element(By.NAME, 'csrfmiddlewaretoken').get_attribute('value')\n",
    "        except NoSuchElementException:\n",
    "            print(\"CSRF token not found\")\n",
    "            driver.quit()\n",
    "            return\n",
    "    \n",
    "    human_scroll(driver)  # Scroll before submitting\n",
    "    driver.execute_script(\"window.scrollTo(0, 0);\")\n",
    "    time.sleep(random.uniform(0.5, 1.5))\n",
    "    \n",
    "    try:\n",
    "        select_elem = Select(driver.find_element(By.TAG_NAME, 'select'))\n",
    "    except NoSuchElementException:\n",
    "        if 'pu/' in base_url:\n",
    "            print(f'{base_url} URL not found')\n",
    "            return\n",
    "        base_url=base_url.replace('ps/','pu/')\n",
    "        submit_file(base_url, file_path)\n",
    "        return\n",
    "   \n",
    "    file_input = driver.find_element(By.NAME, 'data')\n",
    "    human_mouse_move(driver, file_input)\n",
    "    time.sleep(random.uniform(1, 3))\n",
    "    file_input.send_keys(file_path)\n",
    "    time.sleep(random.uniform(1, 3))\n",
    "\n",
    "    \n",
    "    form_elem = driver.find_element(By.TAG_NAME, 'form')\n",
    "    driver.execute_script(\"\"\"\n",
    "        var input = document.createElement('input');\n",
    "        input.setAttribute('type', 'hidden');\n",
    "        input.setAttribute('name', 'csrfmiddlewaretoken');\n",
    "        input.setAttribute('value', arguments[0]);\n",
    "        arguments[1].appendChild(input);\n",
    "        return input;\n",
    "    \"\"\", csrf_token, form_elem)\n",
    "    \n",
    "    time.sleep(random.uniform(2, 4))\n",
    "    try:\n",
    "        submit_button = form_elem.find_element(By.CSS_SELECTOR, \"button[type='submit']\")\n",
    "        human_mouse_move(driver, submit_button)  # Move mouse to the button\n",
    "        submit_button.click()\n",
    "    except NoSuchElementException:\n",
    "        print(\"Submit button not found, trying form.submit() instead.\")\n",
    "        form_elem.submit()\n",
    "    # Wait for the final redirect (adjust timeout as needed)\n",
    "    WebDriverWait(driver, 10).until(\n",
    "        EC.url_contains('corrige')  # Wait for URL to change\n",
    "    )\n",
    "    inner_page_element = WebDriverWait(driver, 10).until(\n",
    "        EC.presence_of_element_located((By.CLASS_NAME, \"inner-page\"))\n",
    "    )\n",
    "    inner_page_text = inner_page_element.get_attribute(\"innerText\")\n",
    "    if \"Houve um erro durante o processamento: conexão com o servidor falhou, não retornou valor.\" in inner_page_text:\n",
    "        print(f'Erro de conexão {base_url}.')\n",
    "        driver.quit()\n",
    "        return\n",
    "    try:\n",
    "        final_url = WebDriverWait(driver, 40).until(\n",
    "            EC.url_contains('resultado')  # Wait for URL to change\n",
    "        )\n",
    "        center_element = WebDriverWait(driver, 10).until(\n",
    "            EC.presence_of_element_located((By.CLASS_NAME, 'inner-page'))\n",
    "        )\n",
    "        human_scroll(driver)  # Scroll before submitting\n",
    "        file_path = os.path.join('./sol', file_path.split('\\\\')[-1][:-4]) # Barra invertida para Windows\n",
    "        file_path += '.txt'\n",
    "        with open(os.path.join(file_path), \"w\", encoding='utf-8') as f:\n",
    "            f.write(center_element.text.split('Tarefas Programação',1)[0])\n",
    "        print(f\"{file_path} File saved successfully.\")\n",
    "    except TimeoutException:\n",
    "        print(f\"{file_path} Timeout waiting for redirect.\")\n",
    "\n",
    "    driver.quit()  # Close the browser\n"
   ]
  },
  {
   "cell_type": "code",
   "execution_count": null,
   "metadata": {},
   "outputs": [
    {
     "name": "stderr",
     "output_type": "stream",
     "text": [
      "The geckodriver version (0.35.0) detected in PATH at C:\\Users\\analc\\miniconda3\\envs\\envIC\\Scripts\\geckodriver.exe might not be compatible with the detected firefox version (135.0.0.2327); currently, geckodriver 0.36.0 is recommended for firefox 135.*, so it is advised to delete the driver in PATH and retry\n"
     ]
    },
    {
     "name": "stdout",
     "output_type": "stream",
     "text": [
      "Erro de conexão https://olimpiada.ic.unicamp.br/pratique/p1/2009/f1/overflow/.\n"
     ]
    },
    {
     "name": "stderr",
     "output_type": "stream",
     "text": [
      "The geckodriver version (0.35.0) detected in PATH at C:\\Users\\analc\\miniconda3\\envs\\envIC\\Scripts\\geckodriver.exe might not be compatible with the detected firefox version (135.0.0.2327); currently, geckodriver 0.36.0 is recommended for firefox 135.*, so it is advised to delete the driver in PATH and retry\n"
     ]
    },
    {
     "name": "stdout",
     "output_type": "stream",
     "text": [
      "Erro de conexão https://olimpiada.ic.unicamp.br/pratique/p1/2009/f2/maratona/.\n"
     ]
    },
    {
     "name": "stderr",
     "output_type": "stream",
     "text": [
      "The geckodriver version (0.35.0) detected in PATH at C:\\Users\\analc\\miniconda3\\envs\\envIC\\Scripts\\geckodriver.exe might not be compatible with the detected firefox version (135.0.0.2327); currently, geckodriver 0.36.0 is recommended for firefox 135.*, so it is advised to delete the driver in PATH and retry\n"
     ]
    },
    {
     "name": "stdout",
     "output_type": "stream",
     "text": [
      "Erro de conexão https://olimpiada.ic.unicamp.br/pratique/p2/2009/f2/banda/.\n"
     ]
    },
    {
     "name": "stderr",
     "output_type": "stream",
     "text": [
      "The geckodriver version (0.35.0) detected in PATH at C:\\Users\\analc\\miniconda3\\envs\\envIC\\Scripts\\geckodriver.exe might not be compatible with the detected firefox version (135.0.0.2327); currently, geckodriver 0.36.0 is recommended for firefox 135.*, so it is advised to delete the driver in PATH and retry\n"
     ]
    },
    {
     "name": "stdout",
     "output_type": "stream",
     "text": [
      "./sol\\2009-pj-f2-banda.txt File saved successfully.\n"
     ]
    },
    {
     "name": "stderr",
     "output_type": "stream",
     "text": [
      "The geckodriver version (0.35.0) detected in PATH at C:\\Users\\analc\\miniconda3\\envs\\envIC\\Scripts\\geckodriver.exe might not be compatible with the detected firefox version (135.0.0.2327); currently, geckodriver 0.36.0 is recommended for firefox 135.*, so it is advised to delete the driver in PATH and retry\n"
     ]
    },
    {
     "name": "stdout",
     "output_type": "stream",
     "text": [
      "./sol\\2010-pj-f2-dentista.txt File saved successfully.\n"
     ]
    },
    {
     "name": "stderr",
     "output_type": "stream",
     "text": [
      "The geckodriver version (0.35.0) detected in PATH at C:\\Users\\analc\\miniconda3\\envs\\envIC\\Scripts\\geckodriver.exe might not be compatible with the detected firefox version (135.0.0.2327); currently, geckodriver 0.36.0 is recommended for firefox 135.*, so it is advised to delete the driver in PATH and retry\n"
     ]
    },
    {
     "name": "stdout",
     "output_type": "stream",
     "text": [
      "./sol\\2011-p1-f1-corrida.txt File saved successfully.\n"
     ]
    },
    {
     "name": "stderr",
     "output_type": "stream",
     "text": [
      "The geckodriver version (0.35.0) detected in PATH at C:\\Users\\analc\\miniconda3\\envs\\envIC\\Scripts\\geckodriver.exe might not be compatible with the detected firefox version (135.0.0.2327); currently, geckodriver 0.36.0 is recommended for firefox 135.*, so it is advised to delete the driver in PATH and retry\n"
     ]
    },
    {
     "name": "stdout",
     "output_type": "stream",
     "text": [
      "./sol\\2011-p1-f2-calculadora.txt File saved successfully.\n"
     ]
    },
    {
     "name": "stderr",
     "output_type": "stream",
     "text": [
      "The geckodriver version (0.35.0) detected in PATH at C:\\Users\\analc\\miniconda3\\envs\\envIC\\Scripts\\geckodriver.exe might not be compatible with the detected firefox version (135.0.0.2327); currently, geckodriver 0.36.0 is recommended for firefox 135.*, so it is advised to delete the driver in PATH and retry\n"
     ]
    },
    {
     "name": "stdout",
     "output_type": "stream",
     "text": [
      "./sol\\2011-p1-f2-selos.txt File saved successfully.\n"
     ]
    },
    {
     "name": "stderr",
     "output_type": "stream",
     "text": [
      "The geckodriver version (0.35.0) detected in PATH at C:\\Users\\analc\\miniconda3\\envs\\envIC\\Scripts\\geckodriver.exe might not be compatible with the detected firefox version (135.0.0.2327); currently, geckodriver 0.36.0 is recommended for firefox 135.*, so it is advised to delete the driver in PATH and retry\n"
     ]
    },
    {
     "name": "stdout",
     "output_type": "stream",
     "text": [
      "Erro de conexão https://olimpiada.ic.unicamp.br/pratique/p2/2011/f1/quadrado/.\n"
     ]
    },
    {
     "name": "stderr",
     "output_type": "stream",
     "text": [
      "The geckodriver version (0.35.0) detected in PATH at C:\\Users\\analc\\miniconda3\\envs\\envIC\\Scripts\\geckodriver.exe might not be compatible with the detected firefox version (135.0.0.2327); currently, geckodriver 0.36.0 is recommended for firefox 135.*, so it is advised to delete the driver in PATH and retry\n"
     ]
    },
    {
     "name": "stdout",
     "output_type": "stream",
     "text": [
      "./sol\\2012-pj-f2-bolo.txt File saved successfully.\n"
     ]
    },
    {
     "name": "stderr",
     "output_type": "stream",
     "text": [
      "The geckodriver version (0.35.0) detected in PATH at C:\\Users\\analc\\miniconda3\\envs\\envIC\\Scripts\\geckodriver.exe might not be compatible with the detected firefox version (135.0.0.2327); currently, geckodriver 0.36.0 is recommended for firefox 135.*, so it is advised to delete the driver in PATH and retry\n"
     ]
    },
    {
     "name": "stdout",
     "output_type": "stream",
     "text": [
      "./sol\\2012-pj-f2-tenis.txt File saved successfully.\n"
     ]
    },
    {
     "name": "stderr",
     "output_type": "stream",
     "text": [
      "The geckodriver version (0.35.0) detected in PATH at C:\\Users\\analc\\miniconda3\\envs\\envIC\\Scripts\\geckodriver.exe might not be compatible with the detected firefox version (135.0.0.2327); currently, geckodriver 0.36.0 is recommended for firefox 135.*, so it is advised to delete the driver in PATH and retry\n"
     ]
    },
    {
     "name": "stdout",
     "output_type": "stream",
     "text": [
      "./sol\\2013-p1-f2-manhattan.txt File saved successfully.\n"
     ]
    },
    {
     "name": "stderr",
     "output_type": "stream",
     "text": [
      "The geckodriver version (0.35.0) detected in PATH at C:\\Users\\analc\\miniconda3\\envs\\envIC\\Scripts\\geckodriver.exe might not be compatible with the detected firefox version (135.0.0.2327); currently, geckodriver 0.36.0 is recommended for firefox 135.*, so it is advised to delete the driver in PATH and retry\n"
     ]
    },
    {
     "name": "stdout",
     "output_type": "stream",
     "text": [
      "./sol\\2013-p1-f2-poligono.txt File saved successfully.\n"
     ]
    },
    {
     "name": "stderr",
     "output_type": "stream",
     "text": [
      "The geckodriver version (0.35.0) detected in PATH at C:\\Users\\analc\\miniconda3\\envs\\envIC\\Scripts\\geckodriver.exe might not be compatible with the detected firefox version (135.0.0.2327); currently, geckodriver 0.36.0 is recommended for firefox 135.*, so it is advised to delete the driver in PATH and retry\n"
     ]
    },
    {
     "name": "stdout",
     "output_type": "stream",
     "text": [
      "./sol\\2013-p1-f2-troco.txt File saved successfully.\n"
     ]
    },
    {
     "name": "stderr",
     "output_type": "stream",
     "text": [
      "The geckodriver version (0.35.0) detected in PATH at C:\\Users\\analc\\miniconda3\\envs\\envIC\\Scripts\\geckodriver.exe might not be compatible with the detected firefox version (135.0.0.2327); currently, geckodriver 0.36.0 is recommended for firefox 135.*, so it is advised to delete the driver in PATH and retry\n"
     ]
    },
    {
     "name": "stdout",
     "output_type": "stream",
     "text": [
      "./sol\\2013-p2-f1-alvo.txt File saved successfully.\n"
     ]
    },
    {
     "name": "stderr",
     "output_type": "stream",
     "text": [
      "The geckodriver version (0.35.0) detected in PATH at C:\\Users\\analc\\miniconda3\\envs\\envIC\\Scripts\\geckodriver.exe might not be compatible with the detected firefox version (135.0.0.2327); currently, geckodriver 0.36.0 is recommended for firefox 135.*, so it is advised to delete the driver in PATH and retry\n"
     ]
    },
    {
     "name": "stdout",
     "output_type": "stream",
     "text": [
      "./sol\\2013-p2-f1-lencol.txt File saved successfully.\n"
     ]
    },
    {
     "name": "stderr",
     "output_type": "stream",
     "text": [
      "The geckodriver version (0.35.0) detected in PATH at C:\\Users\\analc\\miniconda3\\envs\\envIC\\Scripts\\geckodriver.exe might not be compatible with the detected firefox version (135.0.0.2327); currently, geckodriver 0.36.0 is recommended for firefox 135.*, so it is advised to delete the driver in PATH and retry\n"
     ]
    },
    {
     "name": "stdout",
     "output_type": "stream",
     "text": [
      "./sol\\2013-p2-f2-troia.txt File saved successfully.\n"
     ]
    },
    {
     "name": "stderr",
     "output_type": "stream",
     "text": [
      "The geckodriver version (0.35.0) detected in PATH at C:\\Users\\analc\\miniconda3\\envs\\envIC\\Scripts\\geckodriver.exe might not be compatible with the detected firefox version (135.0.0.2327); currently, geckodriver 0.36.0 is recommended for firefox 135.*, so it is advised to delete the driver in PATH and retry\n"
     ]
    },
    {
     "name": "stdout",
     "output_type": "stream",
     "text": [
      "./sol\\2013-pj-f2-fracoes.txt File saved successfully.\n"
     ]
    },
    {
     "name": "stderr",
     "output_type": "stream",
     "text": [
      "The geckodriver version (0.35.0) detected in PATH at C:\\Users\\analc\\miniconda3\\envs\\envIC\\Scripts\\geckodriver.exe might not be compatible with the detected firefox version (135.0.0.2327); currently, geckodriver 0.36.0 is recommended for firefox 135.*, so it is advised to delete the driver in PATH and retry\n"
     ]
    },
    {
     "name": "stdout",
     "output_type": "stream",
     "text": [
      "./sol\\2014-p1-f1-letra.txt File saved successfully.\n"
     ]
    },
    {
     "name": "stderr",
     "output_type": "stream",
     "text": [
      "The geckodriver version (0.35.0) detected in PATH at C:\\Users\\analc\\miniconda3\\envs\\envIC\\Scripts\\geckodriver.exe might not be compatible with the detected firefox version (135.0.0.2327); currently, geckodriver 0.36.0 is recommended for firefox 135.*, so it is advised to delete the driver in PATH and retry\n"
     ]
    },
    {
     "name": "stdout",
     "output_type": "stream",
     "text": [
      "./sol\\2014-p1-f1-semente.txt File saved successfully.\n"
     ]
    },
    {
     "name": "stderr",
     "output_type": "stream",
     "text": [
      "The geckodriver version (0.35.0) detected in PATH at C:\\Users\\analc\\miniconda3\\envs\\envIC\\Scripts\\geckodriver.exe might not be compatible with the detected firefox version (135.0.0.2327); currently, geckodriver 0.36.0 is recommended for firefox 135.*, so it is advised to delete the driver in PATH and retry\n"
     ]
    },
    {
     "name": "stdout",
     "output_type": "stream",
     "text": [
      "./sol\\2014-p1-f1-setas.txt File saved successfully.\n"
     ]
    },
    {
     "name": "stderr",
     "output_type": "stream",
     "text": [
      "The geckodriver version (0.35.0) detected in PATH at C:\\Users\\analc\\miniconda3\\envs\\envIC\\Scripts\\geckodriver.exe might not be compatible with the detected firefox version (135.0.0.2327); currently, geckodriver 0.36.0 is recommended for firefox 135.*, so it is advised to delete the driver in PATH and retry\n"
     ]
    },
    {
     "name": "stdout",
     "output_type": "stream",
     "text": [
      "./sol\\2014-p1-f2-decifra.txt File saved successfully.\n"
     ]
    },
    {
     "name": "stderr",
     "output_type": "stream",
     "text": [
      "The geckodriver version (0.35.0) detected in PATH at C:\\Users\\analc\\miniconda3\\envs\\envIC\\Scripts\\geckodriver.exe might not be compatible with the detected firefox version (135.0.0.2327); currently, geckodriver 0.36.0 is recommended for firefox 135.*, so it is advised to delete the driver in PATH and retry\n"
     ]
    },
    {
     "name": "stdout",
     "output_type": "stream",
     "text": [
      "./sol\\2014-p2-f1-fechadura.txt File saved successfully.\n"
     ]
    },
    {
     "name": "stderr",
     "output_type": "stream",
     "text": [
      "The geckodriver version (0.35.0) detected in PATH at C:\\Users\\analc\\miniconda3\\envs\\envIC\\Scripts\\geckodriver.exe might not be compatible with the detected firefox version (135.0.0.2327); currently, geckodriver 0.36.0 is recommended for firefox 135.*, so it is advised to delete the driver in PATH and retry\n"
     ]
    },
    {
     "name": "stdout",
     "output_type": "stream",
     "text": [
      "./sol\\2014-p2-f2-frequencia.txt File saved successfully.\n"
     ]
    },
    {
     "name": "stderr",
     "output_type": "stream",
     "text": [
      "The geckodriver version (0.35.0) detected in PATH at C:\\Users\\analc\\miniconda3\\envs\\envIC\\Scripts\\geckodriver.exe might not be compatible with the detected firefox version (135.0.0.2327); currently, geckodriver 0.36.0 is recommended for firefox 135.*, so it is advised to delete the driver in PATH and retry\n"
     ]
    },
    {
     "name": "stdout",
     "output_type": "stream",
     "text": [
      "./sol\\2014-p2-f2-mapa.txt File saved successfully.\n"
     ]
    },
    {
     "name": "stderr",
     "output_type": "stream",
     "text": [
      "The geckodriver version (0.35.0) detected in PATH at C:\\Users\\analc\\miniconda3\\envs\\envIC\\Scripts\\geckodriver.exe might not be compatible with the detected firefox version (135.0.0.2327); currently, geckodriver 0.36.0 is recommended for firefox 135.*, so it is advised to delete the driver in PATH and retry\n"
     ]
    },
    {
     "name": "stdout",
     "output_type": "stream",
     "text": [
      "./sol\\2014-pj-f1-fliper.txt File saved successfully.\n"
     ]
    },
    {
     "name": "stderr",
     "output_type": "stream",
     "text": [
      "The geckodriver version (0.35.0) detected in PATH at C:\\Users\\analc\\miniconda3\\envs\\envIC\\Scripts\\geckodriver.exe might not be compatible with the detected firefox version (135.0.0.2327); currently, geckodriver 0.36.0 is recommended for firefox 135.*, so it is advised to delete the driver in PATH and retry\n"
     ]
    },
    {
     "name": "stdout",
     "output_type": "stream",
     "text": [
      "./sol\\2014-ps-f1-cartas.txt File saved successfully.\n"
     ]
    },
    {
     "name": "stderr",
     "output_type": "stream",
     "text": [
      "The geckodriver version (0.35.0) detected in PATH at C:\\Users\\analc\\miniconda3\\envs\\envIC\\Scripts\\geckodriver.exe might not be compatible with the detected firefox version (135.0.0.2327); currently, geckodriver 0.36.0 is recommended for firefox 135.*, so it is advised to delete the driver in PATH and retry\n"
     ]
    },
    {
     "name": "stdout",
     "output_type": "stream",
     "text": [
      "./sol\\2014-ps-f1-carteiro.txt File saved successfully.\n"
     ]
    },
    {
     "name": "stderr",
     "output_type": "stream",
     "text": [
      "The geckodriver version (0.35.0) detected in PATH at C:\\Users\\analc\\miniconda3\\envs\\envIC\\Scripts\\geckodriver.exe might not be compatible with the detected firefox version (135.0.0.2327); currently, geckodriver 0.36.0 is recommended for firefox 135.*, so it is advised to delete the driver in PATH and retry\n"
     ]
    },
    {
     "name": "stdout",
     "output_type": "stream",
     "text": [
      "./sol\\2014-ps-f2-voo.txt File saved successfully.\n"
     ]
    },
    {
     "name": "stderr",
     "output_type": "stream",
     "text": [
      "The geckodriver version (0.35.0) detected in PATH at C:\\Users\\analc\\miniconda3\\envs\\envIC\\Scripts\\geckodriver.exe might not be compatible with the detected firefox version (135.0.0.2327); currently, geckodriver 0.36.0 is recommended for firefox 135.*, so it is advised to delete the driver in PATH and retry\n"
     ]
    },
    {
     "name": "stdout",
     "output_type": "stream",
     "text": [
      "./sol\\2015-p1-f2-impedimento.txt File saved successfully.\n"
     ]
    },
    {
     "name": "stderr",
     "output_type": "stream",
     "text": [
      "The geckodriver version (0.35.0) detected in PATH at C:\\Users\\analc\\miniconda3\\envs\\envIC\\Scripts\\geckodriver.exe might not be compatible with the detected firefox version (135.0.0.2327); currently, geckodriver 0.36.0 is recommended for firefox 135.*, so it is advised to delete the driver in PATH and retry\n"
     ]
    },
    {
     "name": "stdout",
     "output_type": "stream",
     "text": [
      "./sol\\2015-p1-f2-torre.txt File saved successfully.\n"
     ]
    },
    {
     "name": "stderr",
     "output_type": "stream",
     "text": [
      "The geckodriver version (0.35.0) detected in PATH at C:\\Users\\analc\\miniconda3\\envs\\envIC\\Scripts\\geckodriver.exe might not be compatible with the detected firefox version (135.0.0.2327); currently, geckodriver 0.36.0 is recommended for firefox 135.*, so it is advised to delete the driver in PATH and retry\n"
     ]
    },
    {
     "name": "stdout",
     "output_type": "stream",
     "text": [
      "./sol\\2015-p2-f1-caixinha.txt File saved successfully.\n"
     ]
    },
    {
     "name": "stderr",
     "output_type": "stream",
     "text": [
      "The geckodriver version (0.35.0) detected in PATH at C:\\Users\\analc\\miniconda3\\envs\\envIC\\Scripts\\geckodriver.exe might not be compatible with the detected firefox version (135.0.0.2327); currently, geckodriver 0.36.0 is recommended for firefox 135.*, so it is advised to delete the driver in PATH and retry\n"
     ]
    },
    {
     "name": "stdout",
     "output_type": "stream",
     "text": [
      "./sol\\2015-p2-f1-coral.txt File saved successfully.\n"
     ]
    },
    {
     "name": "stderr",
     "output_type": "stream",
     "text": [
      "The geckodriver version (0.35.0) detected in PATH at C:\\Users\\analc\\miniconda3\\envs\\envIC\\Scripts\\geckodriver.exe might not be compatible with the detected firefox version (135.0.0.2327); currently, geckodriver 0.36.0 is recommended for firefox 135.*, so it is advised to delete the driver in PATH and retry\n"
     ]
    },
    {
     "name": "stdout",
     "output_type": "stream",
     "text": [
      "./sol\\2015-p2-f2-chocolate.txt File saved successfully.\n"
     ]
    },
    {
     "name": "stderr",
     "output_type": "stream",
     "text": [
      "The geckodriver version (0.35.0) detected in PATH at C:\\Users\\analc\\miniconda3\\envs\\envIC\\Scripts\\geckodriver.exe might not be compatible with the detected firefox version (135.0.0.2327); currently, geckodriver 0.36.0 is recommended for firefox 135.*, so it is advised to delete the driver in PATH and retry\n"
     ]
    },
    {
     "name": "stdout",
     "output_type": "stream",
     "text": [
      "./sol\\2015-p2-f2-macacos.txt File saved successfully.\n"
     ]
    },
    {
     "name": "stderr",
     "output_type": "stream",
     "text": [
      "The geckodriver version (0.35.0) detected in PATH at C:\\Users\\analc\\miniconda3\\envs\\envIC\\Scripts\\geckodriver.exe might not be compatible with the detected firefox version (135.0.0.2327); currently, geckodriver 0.36.0 is recommended for firefox 135.*, so it is advised to delete the driver in PATH and retry\n"
     ]
    },
    {
     "name": "stdout",
     "output_type": "stream",
     "text": [
      "./sol\\2015-pj-f1-mobile.txt File saved successfully.\n"
     ]
    },
    {
     "name": "stderr",
     "output_type": "stream",
     "text": [
      "The geckodriver version (0.35.0) detected in PATH at C:\\Users\\analc\\miniconda3\\envs\\envIC\\Scripts\\geckodriver.exe might not be compatible with the detected firefox version (135.0.0.2327); currently, geckodriver 0.36.0 is recommended for firefox 135.*, so it is advised to delete the driver in PATH and retry\n"
     ]
    },
    {
     "name": "stdout",
     "output_type": "stream",
     "text": [
      "./sol\\2015-pj-f1-premio.txt File saved successfully.\n"
     ]
    },
    {
     "name": "stderr",
     "output_type": "stream",
     "text": [
      "The geckodriver version (0.35.0) detected in PATH at C:\\Users\\analc\\miniconda3\\envs\\envIC\\Scripts\\geckodriver.exe might not be compatible with the detected firefox version (135.0.0.2327); currently, geckodriver 0.36.0 is recommended for firefox 135.*, so it is advised to delete the driver in PATH and retry\n"
     ]
    },
    {
     "name": "stdout",
     "output_type": "stream",
     "text": [
      "./sol\\2015-ps-f1-cor.txt File saved successfully.\n"
     ]
    },
    {
     "name": "stderr",
     "output_type": "stream",
     "text": [
      "The geckodriver version (0.35.0) detected in PATH at C:\\Users\\analc\\miniconda3\\envs\\envIC\\Scripts\\geckodriver.exe might not be compatible with the detected firefox version (135.0.0.2327); currently, geckodriver 0.36.0 is recommended for firefox 135.*, so it is advised to delete the driver in PATH and retry\n"
     ]
    },
    {
     "name": "stdout",
     "output_type": "stream",
     "text": [
      "./sol\\2015-ps-f1-divisores.txt File saved successfully.\n"
     ]
    },
    {
     "name": "stderr",
     "output_type": "stream",
     "text": [
      "The geckodriver version (0.35.0) detected in PATH at C:\\Users\\analc\\miniconda3\\envs\\envIC\\Scripts\\geckodriver.exe might not be compatible with the detected firefox version (135.0.0.2327); currently, geckodriver 0.36.0 is recommended for firefox 135.*, so it is advised to delete the driver in PATH and retry\n"
     ]
    },
    {
     "name": "stdout",
     "output_type": "stream",
     "text": [
      "./sol\\2015-ps-f1-metro.txt File saved successfully.\n"
     ]
    },
    {
     "name": "stderr",
     "output_type": "stream",
     "text": [
      "The geckodriver version (0.35.0) detected in PATH at C:\\Users\\analc\\miniconda3\\envs\\envIC\\Scripts\\geckodriver.exe might not be compatible with the detected firefox version (135.0.0.2327); currently, geckodriver 0.36.0 is recommended for firefox 135.*, so it is advised to delete the driver in PATH and retry\n"
     ]
    },
    {
     "name": "stdout",
     "output_type": "stream",
     "text": [
      "./sol\\2015-ps-f2-catador.txt File saved successfully.\n"
     ]
    },
    {
     "name": "stderr",
     "output_type": "stream",
     "text": [
      "The geckodriver version (0.35.0) detected in PATH at C:\\Users\\analc\\miniconda3\\envs\\envIC\\Scripts\\geckodriver.exe might not be compatible with the detected firefox version (135.0.0.2327); currently, geckodriver 0.36.0 is recommended for firefox 135.*, so it is advised to delete the driver in PATH and retry\n"
     ]
    },
    {
     "name": "stdout",
     "output_type": "stream",
     "text": [
      "./sol\\2015-ps-f2-napolitano.txt File saved successfully.\n"
     ]
    },
    {
     "name": "stderr",
     "output_type": "stream",
     "text": [
      "The geckodriver version (0.35.0) detected in PATH at C:\\Users\\analc\\miniconda3\\envs\\envIC\\Scripts\\geckodriver.exe might not be compatible with the detected firefox version (135.0.0.2327); currently, geckodriver 0.36.0 is recommended for firefox 135.*, so it is advised to delete the driver in PATH and retry\n"
     ]
    },
    {
     "name": "stdout",
     "output_type": "stream",
     "text": [
      "./sol\\2015-ps-f2-usina.txt File saved successfully.\n",
      "2016-p1-f1-tacos-bilhar inválido.\n"
     ]
    },
    {
     "name": "stderr",
     "output_type": "stream",
     "text": [
      "The geckodriver version (0.35.0) detected in PATH at C:\\Users\\analc\\miniconda3\\envs\\envIC\\Scripts\\geckodriver.exe might not be compatible with the detected firefox version (135.0.0.2327); currently, geckodriver 0.36.0 is recommended for firefox 135.*, so it is advised to delete the driver in PATH and retry\n"
     ]
    },
    {
     "name": "stdout",
     "output_type": "stream",
     "text": [
      "./sol\\2016-p1-f2-arco.txt File saved successfully.\n",
      "2016-p1-f2-caminhos-reino inválido.\n"
     ]
    },
    {
     "name": "stderr",
     "output_type": "stream",
     "text": [
      "The geckodriver version (0.35.0) detected in PATH at C:\\Users\\analc\\miniconda3\\envs\\envIC\\Scripts\\geckodriver.exe might not be compatible with the detected firefox version (135.0.0.2327); currently, geckodriver 0.36.0 is recommended for firefox 135.*, so it is advised to delete the driver in PATH and retry\n"
     ]
    },
    {
     "name": "stdout",
     "output_type": "stream",
     "text": [
      "./sol\\2016-p1-f2-caverna.txt File saved successfully.\n"
     ]
    },
    {
     "name": "stderr",
     "output_type": "stream",
     "text": [
      "The geckodriver version (0.35.0) detected in PATH at C:\\Users\\analc\\miniconda3\\envs\\envIC\\Scripts\\geckodriver.exe might not be compatible with the detected firefox version (135.0.0.2327); currently, geckodriver 0.36.0 is recommended for firefox 135.*, so it is advised to delete the driver in PATH and retry\n"
     ]
    },
    {
     "name": "stdout",
     "output_type": "stream",
     "text": [
      "./sol\\2016-p1-f2-medalhas.txt File saved successfully.\n"
     ]
    },
    {
     "name": "stderr",
     "output_type": "stream",
     "text": [
      "The geckodriver version (0.35.0) detected in PATH at C:\\Users\\analc\\miniconda3\\envs\\envIC\\Scripts\\geckodriver.exe might not be compatible with the detected firefox version (135.0.0.2327); currently, geckodriver 0.36.0 is recommended for firefox 135.*, so it is advised to delete the driver in PATH and retry\n"
     ]
    },
    {
     "name": "stdout",
     "output_type": "stream",
     "text": [
      "./sol\\2016-p2-f1-chuva.txt File saved successfully.\n",
      "2016-p2-f1-lampadas-hotel inválido.\n"
     ]
    },
    {
     "name": "stderr",
     "output_type": "stream",
     "text": [
      "The geckodriver version (0.35.0) detected in PATH at C:\\Users\\analc\\miniconda3\\envs\\envIC\\Scripts\\geckodriver.exe might not be compatible with the detected firefox version (135.0.0.2327); currently, geckodriver 0.36.0 is recommended for firefox 135.*, so it is advised to delete the driver in PATH and retry\n"
     ]
    },
    {
     "name": "stdout",
     "output_type": "stream",
     "text": [
      "./sol\\2016-p2-f1-sanduiche.txt File saved successfully.\n",
      "2016-p2-f1-toca-saci inválido.\n",
      "2016-p2-f2-falta-uma inválido.\n",
      "2016-p2-f2-quase-primo inválido.\n"
     ]
    },
    {
     "name": "stderr",
     "output_type": "stream",
     "text": [
      "The geckodriver version (0.35.0) detected in PATH at C:\\Users\\analc\\miniconda3\\envs\\envIC\\Scripts\\geckodriver.exe might not be compatible with the detected firefox version (135.0.0.2327); currently, geckodriver 0.36.0 is recommended for firefox 135.*, so it is advised to delete the driver in PATH and retry\n"
     ]
    },
    {
     "name": "stdout",
     "output_type": "stream",
     "text": [
      "./sol\\2016-pj-f1-jogo.txt File saved successfully.\n"
     ]
    },
    {
     "name": "stderr",
     "output_type": "stream",
     "text": [
      "The geckodriver version (0.35.0) detected in PATH at C:\\Users\\analc\\miniconda3\\envs\\envIC\\Scripts\\geckodriver.exe might not be compatible with the detected firefox version (135.0.0.2327); currently, geckodriver 0.36.0 is recommended for firefox 135.*, so it is advised to delete the driver in PATH and retry\n"
     ]
    },
    {
     "name": "stdout",
     "output_type": "stream",
     "text": [
      "./sol\\2016-pj-f1-lampadas.txt File saved successfully.\n"
     ]
    },
    {
     "name": "stderr",
     "output_type": "stream",
     "text": [
      "The geckodriver version (0.35.0) detected in PATH at C:\\Users\\analc\\miniconda3\\envs\\envIC\\Scripts\\geckodriver.exe might not be compatible with the detected firefox version (135.0.0.2327); currently, geckodriver 0.36.0 is recommended for firefox 135.*, so it is advised to delete the driver in PATH and retry\n"
     ]
    },
    {
     "name": "stdout",
     "output_type": "stream",
     "text": [
      "./sol\\2016-ps-f1-avenida.txt File saved successfully.\n"
     ]
    },
    {
     "name": "stderr",
     "output_type": "stream",
     "text": [
      "The geckodriver version (0.35.0) detected in PATH at C:\\Users\\analc\\miniconda3\\envs\\envIC\\Scripts\\geckodriver.exe might not be compatible with the detected firefox version (135.0.0.2327); currently, geckodriver 0.36.0 is recommended for firefox 135.*, so it is advised to delete the driver in PATH and retry\n"
     ]
    },
    {
     "name": "stdout",
     "output_type": "stream",
     "text": [
      "Erro de conexão https://olimpiada.ic.unicamp.br/pratique/ps/2016/f1/chaves/.\n"
     ]
    },
    {
     "name": "stderr",
     "output_type": "stream",
     "text": [
      "The geckodriver version (0.35.0) detected in PATH at C:\\Users\\analc\\miniconda3\\envs\\envIC\\Scripts\\geckodriver.exe might not be compatible with the detected firefox version (135.0.0.2327); currently, geckodriver 0.36.0 is recommended for firefox 135.*, so it is advised to delete the driver in PATH and retry\n"
     ]
    },
    {
     "name": "stdout",
     "output_type": "stream",
     "text": [
      "./sol\\2016-ps-f1-direcao.txt File saved successfully.\n",
      "2016-ps-f1-lampadas-hotel inválido.\n",
      "2016-ps-f2-arco-online inválido.\n"
     ]
    },
    {
     "name": "stderr",
     "output_type": "stream",
     "text": [
      "The geckodriver version (0.35.0) detected in PATH at C:\\Users\\analc\\miniconda3\\envs\\envIC\\Scripts\\geckodriver.exe might not be compatible with the detected firefox version (135.0.0.2327); currently, geckodriver 0.36.0 is recommended for firefox 135.*, so it is advised to delete the driver in PATH and retry\n"
     ]
    },
    {
     "name": "stdout",
     "output_type": "stream",
     "text": [
      "Erro de conexão https://olimpiada.ic.unicamp.br/pratique/ps/2016/f2/ciclovias/.\n"
     ]
    },
    {
     "name": "stderr",
     "output_type": "stream",
     "text": [
      "The geckodriver version (0.35.0) detected in PATH at C:\\Users\\analc\\miniconda3\\envs\\envIC\\Scripts\\geckodriver.exe might not be compatible with the detected firefox version (135.0.0.2327); currently, geckodriver 0.36.0 is recommended for firefox 135.*, so it is advised to delete the driver in PATH and retry\n"
     ]
    },
    {
     "name": "stdout",
     "output_type": "stream",
     "text": [
      "Erro de conexão https://olimpiada.ic.unicamp.br/pratique/ps/2016/f2/jardim/.\n"
     ]
    },
    {
     "name": "stderr",
     "output_type": "stream",
     "text": [
      "The geckodriver version (0.35.0) detected in PATH at C:\\Users\\analc\\miniconda3\\envs\\envIC\\Scripts\\geckodriver.exe might not be compatible with the detected firefox version (135.0.0.2327); currently, geckodriver 0.36.0 is recommended for firefox 135.*, so it is advised to delete the driver in PATH and retry\n"
     ]
    },
    {
     "name": "stdout",
     "output_type": "stream",
     "text": [
      "https://olimpiada.ic.unicamp.br/pratique/ps/2016/f2/pokemon/ URL not found\n"
     ]
    },
    {
     "name": "stderr",
     "output_type": "stream",
     "text": [
      "The geckodriver version (0.35.0) detected in PATH at C:\\Users\\analc\\miniconda3\\envs\\envIC\\Scripts\\geckodriver.exe might not be compatible with the detected firefox version (135.0.0.2327); currently, geckodriver 0.36.0 is recommended for firefox 135.*, so it is advised to delete the driver in PATH and retry\n"
     ]
    },
    {
     "name": "stdout",
     "output_type": "stream",
     "text": [
      "./sol\\2016-ps-f2-times.txt File saved successfully.\n"
     ]
    },
    {
     "name": "stderr",
     "output_type": "stream",
     "text": [
      "The geckodriver version (0.35.0) detected in PATH at C:\\Users\\analc\\miniconda3\\envs\\envIC\\Scripts\\geckodriver.exe might not be compatible with the detected firefox version (135.0.0.2327); currently, geckodriver 0.36.0 is recommended for firefox 135.*, so it is advised to delete the driver in PATH and retry\n"
     ]
    },
    {
     "name": "stdout",
     "output_type": "stream",
     "text": [
      "./sol\\2017-p1-f1-teleferico.txt File saved successfully.\n"
     ]
    },
    {
     "name": "stderr",
     "output_type": "stream",
     "text": [
      "The geckodriver version (0.35.0) detected in PATH at C:\\Users\\analc\\miniconda3\\envs\\envIC\\Scripts\\geckodriver.exe might not be compatible with the detected firefox version (135.0.0.2327); currently, geckodriver 0.36.0 is recommended for firefox 135.*, so it is advised to delete the driver in PATH and retry\n"
     ]
    },
    {
     "name": "stdout",
     "output_type": "stream",
     "text": [
      "./sol\\2017-p1-f2-montanha.txt File saved successfully.\n"
     ]
    },
    {
     "name": "stderr",
     "output_type": "stream",
     "text": [
      "The geckodriver version (0.35.0) detected in PATH at C:\\Users\\analc\\miniconda3\\envs\\envIC\\Scripts\\geckodriver.exe might not be compatible with the detected firefox version (135.0.0.2327); currently, geckodriver 0.36.0 is recommended for firefox 135.*, so it is advised to delete the driver in PATH and retry\n"
     ]
    },
    {
     "name": "stdout",
     "output_type": "stream",
     "text": [
      "./sol\\2017-p1-f2-tabuleiro.txt File saved successfully.\n"
     ]
    },
    {
     "name": "stderr",
     "output_type": "stream",
     "text": [
      "The geckodriver version (0.35.0) detected in PATH at C:\\Users\\analc\\miniconda3\\envs\\envIC\\Scripts\\geckodriver.exe might not be compatible with the detected firefox version (135.0.0.2327); currently, geckodriver 0.36.0 is recommended for firefox 135.*, so it is advised to delete the driver in PATH and retry\n"
     ]
    },
    {
     "name": "stdout",
     "output_type": "stream",
     "text": [
      "./sol\\2017-p1-f3-bits.txt File saved successfully.\n"
     ]
    },
    {
     "name": "stderr",
     "output_type": "stream",
     "text": [
      "The geckodriver version (0.35.0) detected in PATH at C:\\Users\\analc\\miniconda3\\envs\\envIC\\Scripts\\geckodriver.exe might not be compatible with the detected firefox version (135.0.0.2327); currently, geckodriver 0.36.0 is recommended for firefox 135.*, so it is advised to delete the driver in PATH and retry\n"
     ]
    },
    {
     "name": "stdout",
     "output_type": "stream",
     "text": [
      "./sol\\2017-p1-f3-gomoku.txt File saved successfully.\n"
     ]
    },
    {
     "name": "stderr",
     "output_type": "stream",
     "text": [
      "The geckodriver version (0.35.0) detected in PATH at C:\\Users\\analc\\miniconda3\\envs\\envIC\\Scripts\\geckodriver.exe might not be compatible with the detected firefox version (135.0.0.2327); currently, geckodriver 0.36.0 is recommended for firefox 135.*, so it is advised to delete the driver in PATH and retry\n"
     ]
    },
    {
     "name": "stdout",
     "output_type": "stream",
     "text": [
      "./sol\\2017-p1-f3-zip.txt File saved successfully.\n"
     ]
    },
    {
     "name": "stderr",
     "output_type": "stream",
     "text": [
      "The geckodriver version (0.35.0) detected in PATH at C:\\Users\\analc\\miniconda3\\envs\\envIC\\Scripts\\geckodriver.exe might not be compatible with the detected firefox version (135.0.0.2327); currently, geckodriver 0.36.0 is recommended for firefox 135.*, so it is advised to delete the driver in PATH and retry\n"
     ]
    },
    {
     "name": "stdout",
     "output_type": "stream",
     "text": [
      "https://olimpiada.ic.unicamp.br/pratique/p2/2017/f1/game10/ URL not found\n"
     ]
    },
    {
     "name": "stderr",
     "output_type": "stream",
     "text": [
      "The geckodriver version (0.35.0) detected in PATH at C:\\Users\\analc\\miniconda3\\envs\\envIC\\Scripts\\geckodriver.exe might not be compatible with the detected firefox version (135.0.0.2327); currently, geckodriver 0.36.0 is recommended for firefox 135.*, so it is advised to delete the driver in PATH and retry\n"
     ]
    },
    {
     "name": "stdout",
     "output_type": "stream",
     "text": [
      "./sol\\2017-p2-f2-frete.txt File saved successfully.\n"
     ]
    },
    {
     "name": "stderr",
     "output_type": "stream",
     "text": [
      "The geckodriver version (0.35.0) detected in PATH at C:\\Users\\analc\\miniconda3\\envs\\envIC\\Scripts\\geckodriver.exe might not be compatible with the detected firefox version (135.0.0.2327); currently, geckodriver 0.36.0 is recommended for firefox 135.*, so it is advised to delete the driver in PATH and retry\n"
     ]
    },
    {
     "name": "stdout",
     "output_type": "stream",
     "text": [
      "./sol\\2017-p2-f2-papel.txt File saved successfully.\n"
     ]
    },
    {
     "name": "stderr",
     "output_type": "stream",
     "text": [
      "The geckodriver version (0.35.0) detected in PATH at C:\\Users\\analc\\miniconda3\\envs\\envIC\\Scripts\\geckodriver.exe might not be compatible with the detected firefox version (135.0.0.2327); currently, geckodriver 0.36.0 is recommended for firefox 135.*, so it is advised to delete the driver in PATH and retry\n"
     ]
    },
    {
     "name": "stdout",
     "output_type": "stream",
     "text": [
      "./sol\\2017-p2-f2-xerxes.txt File saved successfully.\n"
     ]
    },
    {
     "name": "stderr",
     "output_type": "stream",
     "text": [
      "The geckodriver version (0.35.0) detected in PATH at C:\\Users\\analc\\miniconda3\\envs\\envIC\\Scripts\\geckodriver.exe might not be compatible with the detected firefox version (135.0.0.2327); currently, geckodriver 0.36.0 is recommended for firefox 135.*, so it is advised to delete the driver in PATH and retry\n"
     ]
    },
    {
     "name": "stdout",
     "output_type": "stream",
     "text": [
      "./sol\\2017-p2-f3-arranhaceu.txt File saved successfully.\n"
     ]
    },
    {
     "name": "stderr",
     "output_type": "stream",
     "text": [
      "The geckodriver version (0.35.0) detected in PATH at C:\\Users\\analc\\miniconda3\\envs\\envIC\\Scripts\\geckodriver.exe might not be compatible with the detected firefox version (135.0.0.2327); currently, geckodriver 0.36.0 is recommended for firefox 135.*, so it is advised to delete the driver in PATH and retry\n"
     ]
    },
    {
     "name": "stdout",
     "output_type": "stream",
     "text": [
      "./sol\\2017-p2-f3-codigo.txt File saved successfully.\n"
     ]
    },
    {
     "name": "stderr",
     "output_type": "stream",
     "text": [
      "The geckodriver version (0.35.0) detected in PATH at C:\\Users\\analc\\miniconda3\\envs\\envIC\\Scripts\\geckodriver.exe might not be compatible with the detected firefox version (135.0.0.2327); currently, geckodriver 0.36.0 is recommended for firefox 135.*, so it is advised to delete the driver in PATH and retry\n"
     ]
    },
    {
     "name": "stdout",
     "output_type": "stream",
     "text": [
      "./sol\\2017-p2-f3-imperio.txt File saved successfully.\n"
     ]
    },
    {
     "name": "stderr",
     "output_type": "stream",
     "text": [
      "The geckodriver version (0.35.0) detected in PATH at C:\\Users\\analc\\miniconda3\\envs\\envIC\\Scripts\\geckodriver.exe might not be compatible with the detected firefox version (135.0.0.2327); currently, geckodriver 0.36.0 is recommended for firefox 135.*, so it is advised to delete the driver in PATH and retry\n"
     ]
    },
    {
     "name": "stdout",
     "output_type": "stream",
     "text": [
      "./sol\\2017-p2-f3-postes.txt File saved successfully.\n"
     ]
    },
    {
     "name": "stderr",
     "output_type": "stream",
     "text": [
      "The geckodriver version (0.35.0) detected in PATH at C:\\Users\\analc\\miniconda3\\envs\\envIC\\Scripts\\geckodriver.exe might not be compatible with the detected firefox version (135.0.0.2327); currently, geckodriver 0.36.0 is recommended for firefox 135.*, so it is advised to delete the driver in PATH and retry\n"
     ]
    },
    {
     "name": "stdout",
     "output_type": "stream",
     "text": [
      "./sol\\2017-pj-f2-cartas.txt File saved successfully.\n"
     ]
    },
    {
     "name": "stderr",
     "output_type": "stream",
     "text": [
      "The geckodriver version (0.35.0) detected in PATH at C:\\Users\\analc\\miniconda3\\envs\\envIC\\Scripts\\geckodriver.exe might not be compatible with the detected firefox version (135.0.0.2327); currently, geckodriver 0.36.0 is recommended for firefox 135.*, so it is advised to delete the driver in PATH and retry\n"
     ]
    },
    {
     "name": "stdout",
     "output_type": "stream",
     "text": [
      "./sol\\2017-pj-f3-gomoku.txt File saved successfully.\n"
     ]
    },
    {
     "name": "stderr",
     "output_type": "stream",
     "text": [
      "The geckodriver version (0.35.0) detected in PATH at C:\\Users\\analc\\miniconda3\\envs\\envIC\\Scripts\\geckodriver.exe might not be compatible with the detected firefox version (135.0.0.2327); currently, geckodriver 0.36.0 is recommended for firefox 135.*, so it is advised to delete the driver in PATH and retry\n"
     ]
    },
    {
     "name": "stdout",
     "output_type": "stream",
     "text": [
      "./sol\\2017-pj-f3-zip.txt File saved successfully.\n"
     ]
    },
    {
     "name": "stderr",
     "output_type": "stream",
     "text": [
      "The geckodriver version (0.35.0) detected in PATH at C:\\Users\\analc\\miniconda3\\envs\\envIC\\Scripts\\geckodriver.exe might not be compatible with the detected firefox version (135.0.0.2327); currently, geckodriver 0.36.0 is recommended for firefox 135.*, so it is advised to delete the driver in PATH and retry\n"
     ]
    },
    {
     "name": "stdout",
     "output_type": "stream",
     "text": [
      "./sol\\2017-ps-f1-botas.txt File saved successfully.\n"
     ]
    },
    {
     "name": "stderr",
     "output_type": "stream",
     "text": [
      "The geckodriver version (0.35.0) detected in PATH at C:\\Users\\analc\\miniconda3\\envs\\envIC\\Scripts\\geckodriver.exe might not be compatible with the detected firefox version (135.0.0.2327); currently, geckodriver 0.36.0 is recommended for firefox 135.*, so it is advised to delete the driver in PATH and retry\n"
     ]
    },
    {
     "name": "stdout",
     "output_type": "stream",
     "text": [
      "./sol\\2017-ps-f1-game10.txt File saved successfully.\n"
     ]
    },
    {
     "name": "stderr",
     "output_type": "stream",
     "text": [
      "The geckodriver version (0.35.0) detected in PATH at C:\\Users\\analc\\miniconda3\\envs\\envIC\\Scripts\\geckodriver.exe might not be compatible with the detected firefox version (135.0.0.2327); currently, geckodriver 0.36.0 is recommended for firefox 135.*, so it is advised to delete the driver in PATH and retry\n"
     ]
    },
    {
     "name": "stdout",
     "output_type": "stream",
     "text": [
      "./sol\\2017-ps-f1-palindromo.txt File saved successfully.\n"
     ]
    },
    {
     "name": "stderr",
     "output_type": "stream",
     "text": [
      "The geckodriver version (0.35.0) detected in PATH at C:\\Users\\analc\\miniconda3\\envs\\envIC\\Scripts\\geckodriver.exe might not be compatible with the detected firefox version (135.0.0.2327); currently, geckodriver 0.36.0 is recommended for firefox 135.*, so it is advised to delete the driver in PATH and retry\n"
     ]
    },
    {
     "name": "stdout",
     "output_type": "stream",
     "text": [
      "./sol\\2017-ps-f2-frete.txt File saved successfully.\n"
     ]
    },
    {
     "name": "stderr",
     "output_type": "stream",
     "text": [
      "The geckodriver version (0.35.0) detected in PATH at C:\\Users\\analc\\miniconda3\\envs\\envIC\\Scripts\\geckodriver.exe might not be compatible with the detected firefox version (135.0.0.2327); currently, geckodriver 0.36.0 is recommended for firefox 135.*, so it is advised to delete the driver in PATH and retry\n"
     ]
    },
    {
     "name": "stdout",
     "output_type": "stream",
     "text": [
      "./sol\\2017-ps-f2-mapa.txt File saved successfully.\n"
     ]
    },
    {
     "name": "stderr",
     "output_type": "stream",
     "text": [
      "The geckodriver version (0.35.0) detected in PATH at C:\\Users\\analc\\miniconda3\\envs\\envIC\\Scripts\\geckodriver.exe might not be compatible with the detected firefox version (135.0.0.2327); currently, geckodriver 0.36.0 is recommended for firefox 135.*, so it is advised to delete the driver in PATH and retry\n"
     ]
    },
    {
     "name": "stdout",
     "output_type": "stream",
     "text": [
      "./sol\\2017-ps-f2-papel.txt File saved successfully.\n"
     ]
    },
    {
     "name": "stderr",
     "output_type": "stream",
     "text": [
      "The geckodriver version (0.35.0) detected in PATH at C:\\Users\\analc\\miniconda3\\envs\\envIC\\Scripts\\geckodriver.exe might not be compatible with the detected firefox version (135.0.0.2327); currently, geckodriver 0.36.0 is recommended for firefox 135.*, so it is advised to delete the driver in PATH and retry\n"
     ]
    },
    {
     "name": "stdout",
     "output_type": "stream",
     "text": [
      "./sol\\2017-ps-f2-xerxes.txt File saved successfully.\n"
     ]
    },
    {
     "name": "stderr",
     "output_type": "stream",
     "text": [
      "The geckodriver version (0.35.0) detected in PATH at C:\\Users\\analc\\miniconda3\\envs\\envIC\\Scripts\\geckodriver.exe might not be compatible with the detected firefox version (135.0.0.2327); currently, geckodriver 0.36.0 is recommended for firefox 135.*, so it is advised to delete the driver in PATH and retry\n"
     ]
    },
    {
     "name": "stdout",
     "output_type": "stream",
     "text": [
      "./sol\\2017-ps-f3-arranhaceu.txt File saved successfully.\n"
     ]
    },
    {
     "name": "stderr",
     "output_type": "stream",
     "text": [
      "The geckodriver version (0.35.0) detected in PATH at C:\\Users\\analc\\miniconda3\\envs\\envIC\\Scripts\\geckodriver.exe might not be compatible with the detected firefox version (135.0.0.2327); currently, geckodriver 0.36.0 is recommended for firefox 135.*, so it is advised to delete the driver in PATH and retry\n"
     ]
    },
    {
     "name": "stdout",
     "output_type": "stream",
     "text": [
      "./sol\\2017-ps-f3-carrinho.txt File saved successfully.\n"
     ]
    },
    {
     "name": "stderr",
     "output_type": "stream",
     "text": [
      "The geckodriver version (0.35.0) detected in PATH at C:\\Users\\analc\\miniconda3\\envs\\envIC\\Scripts\\geckodriver.exe might not be compatible with the detected firefox version (135.0.0.2327); currently, geckodriver 0.36.0 is recommended for firefox 135.*, so it is advised to delete the driver in PATH and retry\n"
     ]
    },
    {
     "name": "stdout",
     "output_type": "stream",
     "text": [
      "./sol\\2017-ps-f3-codigo.txt File saved successfully.\n"
     ]
    },
    {
     "name": "stderr",
     "output_type": "stream",
     "text": [
      "The geckodriver version (0.35.0) detected in PATH at C:\\Users\\analc\\miniconda3\\envs\\envIC\\Scripts\\geckodriver.exe might not be compatible with the detected firefox version (135.0.0.2327); currently, geckodriver 0.36.0 is recommended for firefox 135.*, so it is advised to delete the driver in PATH and retry\n"
     ]
    },
    {
     "name": "stdout",
     "output_type": "stream",
     "text": [
      "./sol\\2017-ps-f3-imperio.txt File saved successfully.\n"
     ]
    },
    {
     "name": "stderr",
     "output_type": "stream",
     "text": [
      "The geckodriver version (0.35.0) detected in PATH at C:\\Users\\analc\\miniconda3\\envs\\envIC\\Scripts\\geckodriver.exe might not be compatible with the detected firefox version (135.0.0.2327); currently, geckodriver 0.36.0 is recommended for firefox 135.*, so it is advised to delete the driver in PATH and retry\n"
     ]
    },
    {
     "name": "stdout",
     "output_type": "stream",
     "text": [
      "./sol\\2017-ps-f3-postes.txt File saved successfully.\n"
     ]
    },
    {
     "name": "stderr",
     "output_type": "stream",
     "text": [
      "The geckodriver version (0.35.0) detected in PATH at C:\\Users\\analc\\miniconda3\\envs\\envIC\\Scripts\\geckodriver.exe might not be compatible with the detected firefox version (135.0.0.2327); currently, geckodriver 0.36.0 is recommended for firefox 135.*, so it is advised to delete the driver in PATH and retry\n"
     ]
    },
    {
     "name": "stdout",
     "output_type": "stream",
     "text": [
      "./sol\\2018-p1-f2-campeonato.txt File saved successfully.\n"
     ]
    },
    {
     "name": "stderr",
     "output_type": "stream",
     "text": [
      "The geckodriver version (0.35.0) detected in PATH at C:\\Users\\analc\\miniconda3\\envs\\envIC\\Scripts\\geckodriver.exe might not be compatible with the detected firefox version (135.0.0.2327); currently, geckodriver 0.36.0 is recommended for firefox 135.*, so it is advised to delete the driver in PATH and retry\n"
     ]
    },
    {
     "name": "stdout",
     "output_type": "stream",
     "text": [
      "./sol\\2018-p1-f2-capsulas.txt File saved successfully.\n"
     ]
    },
    {
     "name": "stderr",
     "output_type": "stream",
     "text": [
      "The geckodriver version (0.35.0) detected in PATH at C:\\Users\\analc\\miniconda3\\envs\\envIC\\Scripts\\geckodriver.exe might not be compatible with the detected firefox version (135.0.0.2327); currently, geckodriver 0.36.0 is recommended for firefox 135.*, so it is advised to delete the driver in PATH and retry\n"
     ]
    },
    {
     "name": "stdout",
     "output_type": "stream",
     "text": [
      "./sol\\2018-p1-f3-batalha.txt File saved successfully.\n"
     ]
    },
    {
     "name": "stderr",
     "output_type": "stream",
     "text": [
      "The geckodriver version (0.35.0) detected in PATH at C:\\Users\\analc\\miniconda3\\envs\\envIC\\Scripts\\geckodriver.exe might not be compatible with the detected firefox version (135.0.0.2327); currently, geckodriver 0.36.0 is recommended for firefox 135.*, so it is advised to delete the driver in PATH and retry\n"
     ]
    },
    {
     "name": "stdout",
     "output_type": "stream",
     "text": [
      "./sol\\2018-p1-f3-troca.txt File saved successfully.\n"
     ]
    },
    {
     "name": "stderr",
     "output_type": "stream",
     "text": [
      "The geckodriver version (0.35.0) detected in PATH at C:\\Users\\analc\\miniconda3\\envs\\envIC\\Scripts\\geckodriver.exe might not be compatible with the detected firefox version (135.0.0.2327); currently, geckodriver 0.36.0 is recommended for firefox 135.*, so it is advised to delete the driver in PATH and retry\n"
     ]
    },
    {
     "name": "stdout",
     "output_type": "stream",
     "text": [
      "./sol\\2018-p2-f1-piso.txt File saved successfully.\n"
     ]
    },
    {
     "name": "stderr",
     "output_type": "stream",
     "text": [
      "The geckodriver version (0.35.0) detected in PATH at C:\\Users\\analc\\miniconda3\\envs\\envIC\\Scripts\\geckodriver.exe might not be compatible with the detected firefox version (135.0.0.2327); currently, geckodriver 0.36.0 is recommended for firefox 135.*, so it is advised to delete the driver in PATH and retry\n"
     ]
    },
    {
     "name": "stdout",
     "output_type": "stream",
     "text": [
      "./sol\\2018-p2-f2-fuga.txt File saved successfully.\n"
     ]
    },
    {
     "name": "stderr",
     "output_type": "stream",
     "text": [
      "The geckodriver version (0.35.0) detected in PATH at C:\\Users\\analc\\miniconda3\\envs\\envIC\\Scripts\\geckodriver.exe might not be compatible with the detected firefox version (135.0.0.2327); currently, geckodriver 0.36.0 is recommended for firefox 135.*, so it is advised to delete the driver in PATH and retry\n"
     ]
    },
    {
     "name": "stdout",
     "output_type": "stream",
     "text": [
      "./sol\\2018-p2-f3-cinco.txt File saved successfully.\n"
     ]
    },
    {
     "name": "stderr",
     "output_type": "stream",
     "text": [
      "The geckodriver version (0.35.0) detected in PATH at C:\\Users\\analc\\miniconda3\\envs\\envIC\\Scripts\\geckodriver.exe might not be compatible with the detected firefox version (135.0.0.2327); currently, geckodriver 0.36.0 is recommended for firefox 135.*, so it is advised to delete the driver in PATH and retry\n"
     ]
    },
    {
     "name": "stdout",
     "output_type": "stream",
     "text": [
      "https://olimpiada.ic.unicamp.br/pratique/pj/2018/f1/album/ URL not found\n"
     ]
    },
    {
     "name": "stderr",
     "output_type": "stream",
     "text": [
      "The geckodriver version (0.35.0) detected in PATH at C:\\Users\\analc\\miniconda3\\envs\\envIC\\Scripts\\geckodriver.exe might not be compatible with the detected firefox version (135.0.0.2327); currently, geckodriver 0.36.0 is recommended for firefox 135.*, so it is advised to delete the driver in PATH and retry\n"
     ]
    },
    {
     "name": "stdout",
     "output_type": "stream",
     "text": [
      "./sol\\2018-pj-f1-basquete.txt File saved successfully.\n"
     ]
    },
    {
     "name": "stderr",
     "output_type": "stream",
     "text": [
      "The geckodriver version (0.35.0) detected in PATH at C:\\Users\\analc\\miniconda3\\envs\\envIC\\Scripts\\geckodriver.exe might not be compatible with the detected firefox version (135.0.0.2327); currently, geckodriver 0.36.0 is recommended for firefox 135.*, so it is advised to delete the driver in PATH and retry\n"
     ]
    },
    {
     "name": "stdout",
     "output_type": "stream",
     "text": [
      "./sol\\2018-pj-f2-capsulas.txt File saved successfully.\n"
     ]
    },
    {
     "name": "stderr",
     "output_type": "stream",
     "text": [
      "The geckodriver version (0.35.0) detected in PATH at C:\\Users\\analc\\miniconda3\\envs\\envIC\\Scripts\\geckodriver.exe might not be compatible with the detected firefox version (135.0.0.2327); currently, geckodriver 0.36.0 is recommended for firefox 135.*, so it is advised to delete the driver in PATH and retry\n"
     ]
    },
    {
     "name": "stdout",
     "output_type": "stream",
     "text": [
      "./sol\\2018-pj-f3-troca.txt File saved successfully.\n"
     ]
    },
    {
     "name": "stderr",
     "output_type": "stream",
     "text": [
      "The geckodriver version (0.35.0) detected in PATH at C:\\Users\\analc\\miniconda3\\envs\\envIC\\Scripts\\geckodriver.exe might not be compatible with the detected firefox version (135.0.0.2327); currently, geckodriver 0.36.0 is recommended for firefox 135.*, so it is advised to delete the driver in PATH and retry\n"
     ]
    },
    {
     "name": "stdout",
     "output_type": "stream",
     "text": [
      "./sol\\2018-ps-f1-figurinhas.txt File saved successfully.\n"
     ]
    },
    {
     "name": "stderr",
     "output_type": "stream",
     "text": [
      "The geckodriver version (0.35.0) detected in PATH at C:\\Users\\analc\\miniconda3\\envs\\envIC\\Scripts\\geckodriver.exe might not be compatible with the detected firefox version (135.0.0.2327); currently, geckodriver 0.36.0 is recommended for firefox 135.*, so it is advised to delete the driver in PATH and retry\n"
     ]
    },
    {
     "name": "stdout",
     "output_type": "stream",
     "text": [
      "./sol\\2018-ps-f1-ilhas.txt File saved successfully.\n"
     ]
    },
    {
     "name": "stderr",
     "output_type": "stream",
     "text": [
      "The geckodriver version (0.35.0) detected in PATH at C:\\Users\\analc\\miniconda3\\envs\\envIC\\Scripts\\geckodriver.exe might not be compatible with the detected firefox version (135.0.0.2327); currently, geckodriver 0.36.0 is recommended for firefox 135.*, so it is advised to delete the driver in PATH and retry\n"
     ]
    },
    {
     "name": "stdout",
     "output_type": "stream",
     "text": [
      "./sol\\2018-ps-f1-piso.txt File saved successfully.\n"
     ]
    },
    {
     "name": "stderr",
     "output_type": "stream",
     "text": [
      "The geckodriver version (0.35.0) detected in PATH at C:\\Users\\analc\\miniconda3\\envs\\envIC\\Scripts\\geckodriver.exe might not be compatible with the detected firefox version (135.0.0.2327); currently, geckodriver 0.36.0 is recommended for firefox 135.*, so it is advised to delete the driver in PATH and retry\n"
     ]
    },
    {
     "ename": "KeyboardInterrupt",
     "evalue": "",
     "output_type": "error",
     "traceback": [
      "\u001b[1;31m---------------------------------------------------------------------------\u001b[0m",
      "\u001b[1;31mKeyboardInterrupt\u001b[0m                         Traceback (most recent call last)",
      "Cell \u001b[1;32mIn[11], line 16\u001b[0m\n\u001b[0;32m     14\u001b[0m \u001b[38;5;28;01mif\u001b[39;00m os\u001b[38;5;241m.\u001b[39mpath\u001b[38;5;241m.\u001b[39mexists(path):\n\u001b[0;32m     15\u001b[0m     time\u001b[38;5;241m.\u001b[39msleep(random\u001b[38;5;241m.\u001b[39muniform(\u001b[38;5;241m5\u001b[39m, \u001b[38;5;241m10\u001b[39m))\n\u001b[1;32m---> 16\u001b[0m     \u001b[43msubmit_file\u001b[49m\u001b[43m(\u001b[49m\u001b[43mbase_url\u001b[49m\u001b[38;5;241;43m+\u001b[39;49m\u001b[38;5;124;43mf\u001b[39;49m\u001b[38;5;124;43m'\u001b[39;49m\u001b[38;5;132;43;01m{\u001b[39;49;00m\u001b[43mnivel\u001b[49m\u001b[38;5;132;43;01m}\u001b[39;49;00m\u001b[38;5;124;43m/\u001b[39;49m\u001b[38;5;132;43;01m{\u001b[39;49;00m\u001b[43medicao\u001b[49m\u001b[38;5;132;43;01m}\u001b[39;49;00m\u001b[38;5;124;43m/\u001b[39;49m\u001b[38;5;132;43;01m{\u001b[39;49;00m\u001b[43mfase\u001b[49m\u001b[38;5;132;43;01m}\u001b[39;49;00m\u001b[38;5;124;43m/\u001b[39;49m\u001b[38;5;132;43;01m{\u001b[39;49;00m\u001b[43mnome\u001b[49m\u001b[38;5;132;43;01m}\u001b[39;49;00m\u001b[38;5;124;43m/\u001b[39;49m\u001b[38;5;124;43m'\u001b[39;49m\u001b[43m,\u001b[49m\u001b[43m \u001b[49m\u001b[43mpath\u001b[49m\u001b[43m)\u001b[49m\n",
      "Cell \u001b[1;32mIn[10], line 41\u001b[0m, in \u001b[0;36msubmit_file\u001b[1;34m(base_url, file_path)\u001b[0m\n\u001b[0;32m     39\u001b[0m options\u001b[38;5;241m.\u001b[39mset_preference(\u001b[38;5;124m\"\u001b[39m\u001b[38;5;124mgeneral.useragent.override\u001b[39m\u001b[38;5;124m\"\u001b[39m, ua\u001b[38;5;241m.\u001b[39mrandom)\n\u001b[0;32m     40\u001b[0m \u001b[38;5;66;03m#options.add_argument('--headless')  # Enabling headless mode\u001b[39;00m\n\u001b[1;32m---> 41\u001b[0m driver \u001b[38;5;241m=\u001b[39m \u001b[43mwebdriver\u001b[49m\u001b[38;5;241;43m.\u001b[39;49m\u001b[43mFirefox\u001b[49m\u001b[43m(\u001b[49m\u001b[43moptions\u001b[49m\u001b[38;5;241;43m=\u001b[39;49m\u001b[43moptions\u001b[49m\u001b[43m)\u001b[49m\n\u001b[0;32m     43\u001b[0m  \u001b[38;5;66;03m# Avoid Selenium detection\u001b[39;00m\n\u001b[0;32m     44\u001b[0m options\u001b[38;5;241m.\u001b[39mset_preference(\u001b[38;5;124m\"\u001b[39m\u001b[38;5;124mdom.webdriver.enabled\u001b[39m\u001b[38;5;124m\"\u001b[39m, \u001b[38;5;28;01mFalse\u001b[39;00m)\n",
      "File \u001b[1;32mc:\\Users\\analc\\miniconda3\\envs\\envIC\\Lib\\site-packages\\selenium\\webdriver\\firefox\\webdriver.py:71\u001b[0m, in \u001b[0;36mWebDriver.__init__\u001b[1;34m(self, options, service, keep_alive)\u001b[0m\n\u001b[0;32m     64\u001b[0m executor \u001b[38;5;241m=\u001b[39m FirefoxRemoteConnection(\n\u001b[0;32m     65\u001b[0m     remote_server_addr\u001b[38;5;241m=\u001b[39m\u001b[38;5;28mself\u001b[39m\u001b[38;5;241m.\u001b[39mservice\u001b[38;5;241m.\u001b[39mservice_url,\n\u001b[0;32m     66\u001b[0m     keep_alive\u001b[38;5;241m=\u001b[39mkeep_alive,\n\u001b[0;32m     67\u001b[0m     ignore_proxy\u001b[38;5;241m=\u001b[39moptions\u001b[38;5;241m.\u001b[39m_ignore_local_proxy,\n\u001b[0;32m     68\u001b[0m )\n\u001b[0;32m     70\u001b[0m \u001b[38;5;28;01mtry\u001b[39;00m:\n\u001b[1;32m---> 71\u001b[0m     \u001b[38;5;28;43msuper\u001b[39;49m\u001b[43m(\u001b[49m\u001b[43m)\u001b[49m\u001b[38;5;241;43m.\u001b[39;49m\u001b[38;5;21;43m__init__\u001b[39;49m\u001b[43m(\u001b[49m\u001b[43mcommand_executor\u001b[49m\u001b[38;5;241;43m=\u001b[39;49m\u001b[43mexecutor\u001b[49m\u001b[43m,\u001b[49m\u001b[43m \u001b[49m\u001b[43moptions\u001b[49m\u001b[38;5;241;43m=\u001b[39;49m\u001b[43moptions\u001b[49m\u001b[43m)\u001b[49m\n\u001b[0;32m     72\u001b[0m \u001b[38;5;28;01mexcept\u001b[39;00m \u001b[38;5;167;01mException\u001b[39;00m:\n\u001b[0;32m     73\u001b[0m     \u001b[38;5;28mself\u001b[39m\u001b[38;5;241m.\u001b[39mquit()\n",
      "File \u001b[1;32mc:\\Users\\analc\\miniconda3\\envs\\envIC\\Lib\\site-packages\\selenium\\webdriver\\remote\\webdriver.py:238\u001b[0m, in \u001b[0;36mWebDriver.__init__\u001b[1;34m(self, command_executor, keep_alive, file_detector, options, locator_converter, web_element_cls, client_config)\u001b[0m\n\u001b[0;32m    236\u001b[0m \u001b[38;5;28mself\u001b[39m\u001b[38;5;241m.\u001b[39m_authenticator_id \u001b[38;5;241m=\u001b[39m \u001b[38;5;28;01mNone\u001b[39;00m\n\u001b[0;32m    237\u001b[0m \u001b[38;5;28mself\u001b[39m\u001b[38;5;241m.\u001b[39mstart_client()\n\u001b[1;32m--> 238\u001b[0m \u001b[38;5;28;43mself\u001b[39;49m\u001b[38;5;241;43m.\u001b[39;49m\u001b[43mstart_session\u001b[49m\u001b[43m(\u001b[49m\u001b[43mcapabilities\u001b[49m\u001b[43m)\u001b[49m\n\u001b[0;32m    240\u001b[0m \u001b[38;5;28mself\u001b[39m\u001b[38;5;241m.\u001b[39m_websocket_connection \u001b[38;5;241m=\u001b[39m \u001b[38;5;28;01mNone\u001b[39;00m\n\u001b[0;32m    241\u001b[0m \u001b[38;5;28mself\u001b[39m\u001b[38;5;241m.\u001b[39m_script \u001b[38;5;241m=\u001b[39m \u001b[38;5;28;01mNone\u001b[39;00m\n",
      "File \u001b[1;32mc:\\Users\\analc\\miniconda3\\envs\\envIC\\Lib\\site-packages\\selenium\\webdriver\\remote\\webdriver.py:325\u001b[0m, in \u001b[0;36mWebDriver.start_session\u001b[1;34m(self, capabilities)\u001b[0m\n\u001b[0;32m    318\u001b[0m \u001b[38;5;250m\u001b[39m\u001b[38;5;124;03m\"\"\"Creates a new session with the desired capabilities.\u001b[39;00m\n\u001b[0;32m    319\u001b[0m \n\u001b[0;32m    320\u001b[0m \u001b[38;5;124;03m:Args:\u001b[39;00m\n\u001b[0;32m    321\u001b[0m \u001b[38;5;124;03m - capabilities - a capabilities dict to start the session with.\u001b[39;00m\n\u001b[0;32m    322\u001b[0m \u001b[38;5;124;03m\"\"\"\u001b[39;00m\n\u001b[0;32m    324\u001b[0m caps \u001b[38;5;241m=\u001b[39m _create_caps(capabilities)\n\u001b[1;32m--> 325\u001b[0m response \u001b[38;5;241m=\u001b[39m \u001b[38;5;28;43mself\u001b[39;49m\u001b[38;5;241;43m.\u001b[39;49m\u001b[43mexecute\u001b[49m\u001b[43m(\u001b[49m\u001b[43mCommand\u001b[49m\u001b[38;5;241;43m.\u001b[39;49m\u001b[43mNEW_SESSION\u001b[49m\u001b[43m,\u001b[49m\u001b[43m \u001b[49m\u001b[43mcaps\u001b[49m\u001b[43m)\u001b[49m[\u001b[38;5;124m\"\u001b[39m\u001b[38;5;124mvalue\u001b[39m\u001b[38;5;124m\"\u001b[39m]\n\u001b[0;32m    326\u001b[0m \u001b[38;5;28mself\u001b[39m\u001b[38;5;241m.\u001b[39msession_id \u001b[38;5;241m=\u001b[39m response\u001b[38;5;241m.\u001b[39mget(\u001b[38;5;124m\"\u001b[39m\u001b[38;5;124msessionId\u001b[39m\u001b[38;5;124m\"\u001b[39m)\n\u001b[0;32m    327\u001b[0m \u001b[38;5;28mself\u001b[39m\u001b[38;5;241m.\u001b[39mcaps \u001b[38;5;241m=\u001b[39m response\u001b[38;5;241m.\u001b[39mget(\u001b[38;5;124m\"\u001b[39m\u001b[38;5;124mcapabilities\u001b[39m\u001b[38;5;124m\"\u001b[39m)\n",
      "File \u001b[1;32mc:\\Users\\analc\\miniconda3\\envs\\envIC\\Lib\\site-packages\\selenium\\webdriver\\remote\\webdriver.py:378\u001b[0m, in \u001b[0;36mWebDriver.execute\u001b[1;34m(self, driver_command, params)\u001b[0m\n\u001b[0;32m    375\u001b[0m     \u001b[38;5;28;01melif\u001b[39;00m \u001b[38;5;124m\"\u001b[39m\u001b[38;5;124msessionId\u001b[39m\u001b[38;5;124m\"\u001b[39m \u001b[38;5;129;01mnot\u001b[39;00m \u001b[38;5;129;01min\u001b[39;00m params:\n\u001b[0;32m    376\u001b[0m         params[\u001b[38;5;124m\"\u001b[39m\u001b[38;5;124msessionId\u001b[39m\u001b[38;5;124m\"\u001b[39m] \u001b[38;5;241m=\u001b[39m \u001b[38;5;28mself\u001b[39m\u001b[38;5;241m.\u001b[39msession_id\n\u001b[1;32m--> 378\u001b[0m response \u001b[38;5;241m=\u001b[39m \u001b[38;5;28;43mself\u001b[39;49m\u001b[38;5;241;43m.\u001b[39;49m\u001b[43mcommand_executor\u001b[49m\u001b[38;5;241;43m.\u001b[39;49m\u001b[43mexecute\u001b[49m\u001b[43m(\u001b[49m\u001b[43mdriver_command\u001b[49m\u001b[43m,\u001b[49m\u001b[43m \u001b[49m\u001b[43mparams\u001b[49m\u001b[43m)\u001b[49m\n\u001b[0;32m    379\u001b[0m \u001b[38;5;28;01mif\u001b[39;00m response:\n\u001b[0;32m    380\u001b[0m     \u001b[38;5;28mself\u001b[39m\u001b[38;5;241m.\u001b[39merror_handler\u001b[38;5;241m.\u001b[39mcheck_response(response)\n",
      "File \u001b[1;32mc:\\Users\\analc\\miniconda3\\envs\\envIC\\Lib\\site-packages\\selenium\\webdriver\\remote\\remote_connection.py:391\u001b[0m, in \u001b[0;36mRemoteConnection.execute\u001b[1;34m(self, command, params)\u001b[0m\n\u001b[0;32m    389\u001b[0m trimmed \u001b[38;5;241m=\u001b[39m \u001b[38;5;28mself\u001b[39m\u001b[38;5;241m.\u001b[39m_trim_large_entries(params)\n\u001b[0;32m    390\u001b[0m LOGGER\u001b[38;5;241m.\u001b[39mdebug(\u001b[38;5;124m\"\u001b[39m\u001b[38;5;132;01m%s\u001b[39;00m\u001b[38;5;124m \u001b[39m\u001b[38;5;132;01m%s\u001b[39;00m\u001b[38;5;124m \u001b[39m\u001b[38;5;132;01m%s\u001b[39;00m\u001b[38;5;124m\"\u001b[39m, command_info[\u001b[38;5;241m0\u001b[39m], url, \u001b[38;5;28mstr\u001b[39m(trimmed))\n\u001b[1;32m--> 391\u001b[0m \u001b[38;5;28;01mreturn\u001b[39;00m \u001b[38;5;28;43mself\u001b[39;49m\u001b[38;5;241;43m.\u001b[39;49m\u001b[43m_request\u001b[49m\u001b[43m(\u001b[49m\u001b[43mcommand_info\u001b[49m\u001b[43m[\u001b[49m\u001b[38;5;241;43m0\u001b[39;49m\u001b[43m]\u001b[49m\u001b[43m,\u001b[49m\u001b[43m \u001b[49m\u001b[43murl\u001b[49m\u001b[43m,\u001b[49m\u001b[43m \u001b[49m\u001b[43mbody\u001b[49m\u001b[38;5;241;43m=\u001b[39;49m\u001b[43mdata\u001b[49m\u001b[43m)\u001b[49m\n",
      "File \u001b[1;32mc:\\Users\\analc\\miniconda3\\envs\\envIC\\Lib\\site-packages\\selenium\\webdriver\\remote\\remote_connection.py:415\u001b[0m, in \u001b[0;36mRemoteConnection._request\u001b[1;34m(self, method, url, body)\u001b[0m\n\u001b[0;32m    412\u001b[0m     body \u001b[38;5;241m=\u001b[39m \u001b[38;5;28;01mNone\u001b[39;00m\n\u001b[0;32m    414\u001b[0m \u001b[38;5;28;01mif\u001b[39;00m \u001b[38;5;28mself\u001b[39m\u001b[38;5;241m.\u001b[39m_client_config\u001b[38;5;241m.\u001b[39mkeep_alive:\n\u001b[1;32m--> 415\u001b[0m     response \u001b[38;5;241m=\u001b[39m \u001b[38;5;28;43mself\u001b[39;49m\u001b[38;5;241;43m.\u001b[39;49m\u001b[43m_conn\u001b[49m\u001b[38;5;241;43m.\u001b[39;49m\u001b[43mrequest\u001b[49m\u001b[43m(\u001b[49m\u001b[43mmethod\u001b[49m\u001b[43m,\u001b[49m\u001b[43m \u001b[49m\u001b[43murl\u001b[49m\u001b[43m,\u001b[49m\u001b[43m \u001b[49m\u001b[43mbody\u001b[49m\u001b[38;5;241;43m=\u001b[39;49m\u001b[43mbody\u001b[49m\u001b[43m,\u001b[49m\u001b[43m \u001b[49m\u001b[43mheaders\u001b[49m\u001b[38;5;241;43m=\u001b[39;49m\u001b[43mheaders\u001b[49m\u001b[43m,\u001b[49m\u001b[43m \u001b[49m\u001b[43mtimeout\u001b[49m\u001b[38;5;241;43m=\u001b[39;49m\u001b[38;5;28;43mself\u001b[39;49m\u001b[38;5;241;43m.\u001b[39;49m\u001b[43m_client_config\u001b[49m\u001b[38;5;241;43m.\u001b[39;49m\u001b[43mtimeout\u001b[49m\u001b[43m)\u001b[49m\n\u001b[0;32m    416\u001b[0m     statuscode \u001b[38;5;241m=\u001b[39m response\u001b[38;5;241m.\u001b[39mstatus\n\u001b[0;32m    417\u001b[0m \u001b[38;5;28;01melse\u001b[39;00m:\n",
      "File \u001b[1;32mc:\\Users\\analc\\miniconda3\\envs\\envIC\\Lib\\site-packages\\urllib3\\_request_methods.py:143\u001b[0m, in \u001b[0;36mRequestMethods.request\u001b[1;34m(self, method, url, body, fields, headers, json, **urlopen_kw)\u001b[0m\n\u001b[0;32m    135\u001b[0m     \u001b[38;5;28;01mreturn\u001b[39;00m \u001b[38;5;28mself\u001b[39m\u001b[38;5;241m.\u001b[39mrequest_encode_url(\n\u001b[0;32m    136\u001b[0m         method,\n\u001b[0;32m    137\u001b[0m         url,\n\u001b[1;32m   (...)\u001b[0m\n\u001b[0;32m    140\u001b[0m         \u001b[38;5;241m*\u001b[39m\u001b[38;5;241m*\u001b[39murlopen_kw,\n\u001b[0;32m    141\u001b[0m     )\n\u001b[0;32m    142\u001b[0m \u001b[38;5;28;01melse\u001b[39;00m:\n\u001b[1;32m--> 143\u001b[0m     \u001b[38;5;28;01mreturn\u001b[39;00m \u001b[38;5;28;43mself\u001b[39;49m\u001b[38;5;241;43m.\u001b[39;49m\u001b[43mrequest_encode_body\u001b[49m\u001b[43m(\u001b[49m\n\u001b[0;32m    144\u001b[0m \u001b[43m        \u001b[49m\u001b[43mmethod\u001b[49m\u001b[43m,\u001b[49m\u001b[43m \u001b[49m\u001b[43murl\u001b[49m\u001b[43m,\u001b[49m\u001b[43m \u001b[49m\u001b[43mfields\u001b[49m\u001b[38;5;241;43m=\u001b[39;49m\u001b[43mfields\u001b[49m\u001b[43m,\u001b[49m\u001b[43m \u001b[49m\u001b[43mheaders\u001b[49m\u001b[38;5;241;43m=\u001b[39;49m\u001b[43mheaders\u001b[49m\u001b[43m,\u001b[49m\u001b[43m \u001b[49m\u001b[38;5;241;43m*\u001b[39;49m\u001b[38;5;241;43m*\u001b[39;49m\u001b[43murlopen_kw\u001b[49m\n\u001b[0;32m    145\u001b[0m \u001b[43m    \u001b[49m\u001b[43m)\u001b[49m\n",
      "File \u001b[1;32mc:\\Users\\analc\\miniconda3\\envs\\envIC\\Lib\\site-packages\\urllib3\\_request_methods.py:278\u001b[0m, in \u001b[0;36mRequestMethods.request_encode_body\u001b[1;34m(self, method, url, fields, headers, encode_multipart, multipart_boundary, **urlopen_kw)\u001b[0m\n\u001b[0;32m    274\u001b[0m     extra_kw[\u001b[38;5;124m\"\u001b[39m\u001b[38;5;124mheaders\u001b[39m\u001b[38;5;124m\"\u001b[39m]\u001b[38;5;241m.\u001b[39msetdefault(\u001b[38;5;124m\"\u001b[39m\u001b[38;5;124mContent-Type\u001b[39m\u001b[38;5;124m\"\u001b[39m, content_type)\n\u001b[0;32m    276\u001b[0m extra_kw\u001b[38;5;241m.\u001b[39mupdate(urlopen_kw)\n\u001b[1;32m--> 278\u001b[0m \u001b[38;5;28;01mreturn\u001b[39;00m \u001b[38;5;28;43mself\u001b[39;49m\u001b[38;5;241;43m.\u001b[39;49m\u001b[43murlopen\u001b[49m\u001b[43m(\u001b[49m\u001b[43mmethod\u001b[49m\u001b[43m,\u001b[49m\u001b[43m \u001b[49m\u001b[43murl\u001b[49m\u001b[43m,\u001b[49m\u001b[43m \u001b[49m\u001b[38;5;241;43m*\u001b[39;49m\u001b[38;5;241;43m*\u001b[39;49m\u001b[43mextra_kw\u001b[49m\u001b[43m)\u001b[49m\n",
      "File \u001b[1;32mc:\\Users\\analc\\miniconda3\\envs\\envIC\\Lib\\site-packages\\urllib3\\poolmanager.py:443\u001b[0m, in \u001b[0;36mPoolManager.urlopen\u001b[1;34m(self, method, url, redirect, **kw)\u001b[0m\n\u001b[0;32m    441\u001b[0m     response \u001b[38;5;241m=\u001b[39m conn\u001b[38;5;241m.\u001b[39murlopen(method, url, \u001b[38;5;241m*\u001b[39m\u001b[38;5;241m*\u001b[39mkw)\n\u001b[0;32m    442\u001b[0m \u001b[38;5;28;01melse\u001b[39;00m:\n\u001b[1;32m--> 443\u001b[0m     response \u001b[38;5;241m=\u001b[39m \u001b[43mconn\u001b[49m\u001b[38;5;241;43m.\u001b[39;49m\u001b[43murlopen\u001b[49m\u001b[43m(\u001b[49m\u001b[43mmethod\u001b[49m\u001b[43m,\u001b[49m\u001b[43m \u001b[49m\u001b[43mu\u001b[49m\u001b[38;5;241;43m.\u001b[39;49m\u001b[43mrequest_uri\u001b[49m\u001b[43m,\u001b[49m\u001b[43m \u001b[49m\u001b[38;5;241;43m*\u001b[39;49m\u001b[38;5;241;43m*\u001b[39;49m\u001b[43mkw\u001b[49m\u001b[43m)\u001b[49m\n\u001b[0;32m    445\u001b[0m redirect_location \u001b[38;5;241m=\u001b[39m redirect \u001b[38;5;129;01mand\u001b[39;00m response\u001b[38;5;241m.\u001b[39mget_redirect_location()\n\u001b[0;32m    446\u001b[0m \u001b[38;5;28;01mif\u001b[39;00m \u001b[38;5;129;01mnot\u001b[39;00m redirect_location:\n",
      "File \u001b[1;32mc:\\Users\\analc\\miniconda3\\envs\\envIC\\Lib\\site-packages\\urllib3\\connectionpool.py:789\u001b[0m, in \u001b[0;36mHTTPConnectionPool.urlopen\u001b[1;34m(self, method, url, body, headers, retries, redirect, assert_same_host, timeout, pool_timeout, release_conn, chunked, body_pos, preload_content, decode_content, **response_kw)\u001b[0m\n\u001b[0;32m    786\u001b[0m response_conn \u001b[38;5;241m=\u001b[39m conn \u001b[38;5;28;01mif\u001b[39;00m \u001b[38;5;129;01mnot\u001b[39;00m release_conn \u001b[38;5;28;01melse\u001b[39;00m \u001b[38;5;28;01mNone\u001b[39;00m\n\u001b[0;32m    788\u001b[0m \u001b[38;5;66;03m# Make the request on the HTTPConnection object\u001b[39;00m\n\u001b[1;32m--> 789\u001b[0m response \u001b[38;5;241m=\u001b[39m \u001b[38;5;28;43mself\u001b[39;49m\u001b[38;5;241;43m.\u001b[39;49m\u001b[43m_make_request\u001b[49m\u001b[43m(\u001b[49m\n\u001b[0;32m    790\u001b[0m \u001b[43m    \u001b[49m\u001b[43mconn\u001b[49m\u001b[43m,\u001b[49m\n\u001b[0;32m    791\u001b[0m \u001b[43m    \u001b[49m\u001b[43mmethod\u001b[49m\u001b[43m,\u001b[49m\n\u001b[0;32m    792\u001b[0m \u001b[43m    \u001b[49m\u001b[43murl\u001b[49m\u001b[43m,\u001b[49m\n\u001b[0;32m    793\u001b[0m \u001b[43m    \u001b[49m\u001b[43mtimeout\u001b[49m\u001b[38;5;241;43m=\u001b[39;49m\u001b[43mtimeout_obj\u001b[49m\u001b[43m,\u001b[49m\n\u001b[0;32m    794\u001b[0m \u001b[43m    \u001b[49m\u001b[43mbody\u001b[49m\u001b[38;5;241;43m=\u001b[39;49m\u001b[43mbody\u001b[49m\u001b[43m,\u001b[49m\n\u001b[0;32m    795\u001b[0m \u001b[43m    \u001b[49m\u001b[43mheaders\u001b[49m\u001b[38;5;241;43m=\u001b[39;49m\u001b[43mheaders\u001b[49m\u001b[43m,\u001b[49m\n\u001b[0;32m    796\u001b[0m \u001b[43m    \u001b[49m\u001b[43mchunked\u001b[49m\u001b[38;5;241;43m=\u001b[39;49m\u001b[43mchunked\u001b[49m\u001b[43m,\u001b[49m\n\u001b[0;32m    797\u001b[0m \u001b[43m    \u001b[49m\u001b[43mretries\u001b[49m\u001b[38;5;241;43m=\u001b[39;49m\u001b[43mretries\u001b[49m\u001b[43m,\u001b[49m\n\u001b[0;32m    798\u001b[0m \u001b[43m    \u001b[49m\u001b[43mresponse_conn\u001b[49m\u001b[38;5;241;43m=\u001b[39;49m\u001b[43mresponse_conn\u001b[49m\u001b[43m,\u001b[49m\n\u001b[0;32m    799\u001b[0m \u001b[43m    \u001b[49m\u001b[43mpreload_content\u001b[49m\u001b[38;5;241;43m=\u001b[39;49m\u001b[43mpreload_content\u001b[49m\u001b[43m,\u001b[49m\n\u001b[0;32m    800\u001b[0m \u001b[43m    \u001b[49m\u001b[43mdecode_content\u001b[49m\u001b[38;5;241;43m=\u001b[39;49m\u001b[43mdecode_content\u001b[49m\u001b[43m,\u001b[49m\n\u001b[0;32m    801\u001b[0m \u001b[43m    \u001b[49m\u001b[38;5;241;43m*\u001b[39;49m\u001b[38;5;241;43m*\u001b[39;49m\u001b[43mresponse_kw\u001b[49m\u001b[43m,\u001b[49m\n\u001b[0;32m    802\u001b[0m \u001b[43m\u001b[49m\u001b[43m)\u001b[49m\n\u001b[0;32m    804\u001b[0m \u001b[38;5;66;03m# Everything went great!\u001b[39;00m\n\u001b[0;32m    805\u001b[0m clean_exit \u001b[38;5;241m=\u001b[39m \u001b[38;5;28;01mTrue\u001b[39;00m\n",
      "File \u001b[1;32mc:\\Users\\analc\\miniconda3\\envs\\envIC\\Lib\\site-packages\\urllib3\\connectionpool.py:536\u001b[0m, in \u001b[0;36mHTTPConnectionPool._make_request\u001b[1;34m(self, conn, method, url, body, headers, retries, timeout, chunked, response_conn, preload_content, decode_content, enforce_content_length)\u001b[0m\n\u001b[0;32m    534\u001b[0m \u001b[38;5;66;03m# Receive the response from the server\u001b[39;00m\n\u001b[0;32m    535\u001b[0m \u001b[38;5;28;01mtry\u001b[39;00m:\n\u001b[1;32m--> 536\u001b[0m     response \u001b[38;5;241m=\u001b[39m \u001b[43mconn\u001b[49m\u001b[38;5;241;43m.\u001b[39;49m\u001b[43mgetresponse\u001b[49m\u001b[43m(\u001b[49m\u001b[43m)\u001b[49m\n\u001b[0;32m    537\u001b[0m \u001b[38;5;28;01mexcept\u001b[39;00m (BaseSSLError, \u001b[38;5;167;01mOSError\u001b[39;00m) \u001b[38;5;28;01mas\u001b[39;00m e:\n\u001b[0;32m    538\u001b[0m     \u001b[38;5;28mself\u001b[39m\u001b[38;5;241m.\u001b[39m_raise_timeout(err\u001b[38;5;241m=\u001b[39me, url\u001b[38;5;241m=\u001b[39murl, timeout_value\u001b[38;5;241m=\u001b[39mread_timeout)\n",
      "File \u001b[1;32mc:\\Users\\analc\\miniconda3\\envs\\envIC\\Lib\\site-packages\\urllib3\\connection.py:507\u001b[0m, in \u001b[0;36mHTTPConnection.getresponse\u001b[1;34m(self)\u001b[0m\n\u001b[0;32m    504\u001b[0m \u001b[38;5;28;01mfrom\u001b[39;00m \u001b[38;5;21;01m.\u001b[39;00m\u001b[38;5;21;01mresponse\u001b[39;00m \u001b[38;5;28;01mimport\u001b[39;00m HTTPResponse\n\u001b[0;32m    506\u001b[0m \u001b[38;5;66;03m# Get the response from http.client.HTTPConnection\u001b[39;00m\n\u001b[1;32m--> 507\u001b[0m httplib_response \u001b[38;5;241m=\u001b[39m \u001b[38;5;28;43msuper\u001b[39;49m\u001b[43m(\u001b[49m\u001b[43m)\u001b[49m\u001b[38;5;241;43m.\u001b[39;49m\u001b[43mgetresponse\u001b[49m\u001b[43m(\u001b[49m\u001b[43m)\u001b[49m\n\u001b[0;32m    509\u001b[0m \u001b[38;5;28;01mtry\u001b[39;00m:\n\u001b[0;32m    510\u001b[0m     assert_header_parsing(httplib_response\u001b[38;5;241m.\u001b[39mmsg)\n",
      "File \u001b[1;32mc:\\Users\\analc\\miniconda3\\envs\\envIC\\Lib\\http\\client.py:1428\u001b[0m, in \u001b[0;36mHTTPConnection.getresponse\u001b[1;34m(self)\u001b[0m\n\u001b[0;32m   1426\u001b[0m \u001b[38;5;28;01mtry\u001b[39;00m:\n\u001b[0;32m   1427\u001b[0m     \u001b[38;5;28;01mtry\u001b[39;00m:\n\u001b[1;32m-> 1428\u001b[0m         \u001b[43mresponse\u001b[49m\u001b[38;5;241;43m.\u001b[39;49m\u001b[43mbegin\u001b[49m\u001b[43m(\u001b[49m\u001b[43m)\u001b[49m\n\u001b[0;32m   1429\u001b[0m     \u001b[38;5;28;01mexcept\u001b[39;00m \u001b[38;5;167;01mConnectionError\u001b[39;00m:\n\u001b[0;32m   1430\u001b[0m         \u001b[38;5;28mself\u001b[39m\u001b[38;5;241m.\u001b[39mclose()\n",
      "File \u001b[1;32mc:\\Users\\analc\\miniconda3\\envs\\envIC\\Lib\\http\\client.py:331\u001b[0m, in \u001b[0;36mHTTPResponse.begin\u001b[1;34m(self)\u001b[0m\n\u001b[0;32m    329\u001b[0m \u001b[38;5;66;03m# read until we get a non-100 response\u001b[39;00m\n\u001b[0;32m    330\u001b[0m \u001b[38;5;28;01mwhile\u001b[39;00m \u001b[38;5;28;01mTrue\u001b[39;00m:\n\u001b[1;32m--> 331\u001b[0m     version, status, reason \u001b[38;5;241m=\u001b[39m \u001b[38;5;28;43mself\u001b[39;49m\u001b[38;5;241;43m.\u001b[39;49m\u001b[43m_read_status\u001b[49m\u001b[43m(\u001b[49m\u001b[43m)\u001b[49m\n\u001b[0;32m    332\u001b[0m     \u001b[38;5;28;01mif\u001b[39;00m status \u001b[38;5;241m!=\u001b[39m CONTINUE:\n\u001b[0;32m    333\u001b[0m         \u001b[38;5;28;01mbreak\u001b[39;00m\n",
      "File \u001b[1;32mc:\\Users\\analc\\miniconda3\\envs\\envIC\\Lib\\http\\client.py:292\u001b[0m, in \u001b[0;36mHTTPResponse._read_status\u001b[1;34m(self)\u001b[0m\n\u001b[0;32m    291\u001b[0m \u001b[38;5;28;01mdef\u001b[39;00m \u001b[38;5;21m_read_status\u001b[39m(\u001b[38;5;28mself\u001b[39m):\n\u001b[1;32m--> 292\u001b[0m     line \u001b[38;5;241m=\u001b[39m \u001b[38;5;28mstr\u001b[39m(\u001b[38;5;28;43mself\u001b[39;49m\u001b[38;5;241;43m.\u001b[39;49m\u001b[43mfp\u001b[49m\u001b[38;5;241;43m.\u001b[39;49m\u001b[43mreadline\u001b[49m\u001b[43m(\u001b[49m\u001b[43m_MAXLINE\u001b[49m\u001b[43m \u001b[49m\u001b[38;5;241;43m+\u001b[39;49m\u001b[43m \u001b[49m\u001b[38;5;241;43m1\u001b[39;49m\u001b[43m)\u001b[49m, \u001b[38;5;124m\"\u001b[39m\u001b[38;5;124miso-8859-1\u001b[39m\u001b[38;5;124m\"\u001b[39m)\n\u001b[0;32m    293\u001b[0m     \u001b[38;5;28;01mif\u001b[39;00m \u001b[38;5;28mlen\u001b[39m(line) \u001b[38;5;241m>\u001b[39m _MAXLINE:\n\u001b[0;32m    294\u001b[0m         \u001b[38;5;28;01mraise\u001b[39;00m LineTooLong(\u001b[38;5;124m\"\u001b[39m\u001b[38;5;124mstatus line\u001b[39m\u001b[38;5;124m\"\u001b[39m)\n",
      "File \u001b[1;32mc:\\Users\\analc\\miniconda3\\envs\\envIC\\Lib\\socket.py:719\u001b[0m, in \u001b[0;36mSocketIO.readinto\u001b[1;34m(self, b)\u001b[0m\n\u001b[0;32m    717\u001b[0m     \u001b[38;5;28;01mraise\u001b[39;00m \u001b[38;5;167;01mOSError\u001b[39;00m(\u001b[38;5;124m\"\u001b[39m\u001b[38;5;124mcannot read from timed out object\u001b[39m\u001b[38;5;124m\"\u001b[39m)\n\u001b[0;32m    718\u001b[0m \u001b[38;5;28;01mtry\u001b[39;00m:\n\u001b[1;32m--> 719\u001b[0m     \u001b[38;5;28;01mreturn\u001b[39;00m \u001b[38;5;28;43mself\u001b[39;49m\u001b[38;5;241;43m.\u001b[39;49m\u001b[43m_sock\u001b[49m\u001b[38;5;241;43m.\u001b[39;49m\u001b[43mrecv_into\u001b[49m\u001b[43m(\u001b[49m\u001b[43mb\u001b[49m\u001b[43m)\u001b[49m\n\u001b[0;32m    720\u001b[0m \u001b[38;5;28;01mexcept\u001b[39;00m timeout:\n\u001b[0;32m    721\u001b[0m     \u001b[38;5;28mself\u001b[39m\u001b[38;5;241m.\u001b[39m_timeout_occurred \u001b[38;5;241m=\u001b[39m \u001b[38;5;28;01mTrue\u001b[39;00m\n",
      "\u001b[1;31mKeyboardInterrupt\u001b[0m: "
     ]
    }
   ],
   "source": [
    "import os\n",
    "root = './pratique'\n",
    "for folder in os.listdir(root):\n",
    "    if not folder.startswith('2'):\n",
    "        continue\n",
    "    path = os.path.join(root,folder,folder+'.cpp')\n",
    "    splitted =  folder.split('_',3)\n",
    "    if len(splitted) != 4:\n",
    "        print(f'{folder} inválido.')\n",
    "        continue\n",
    "    if os.path.exists(os.path.join('./sol',folder+'.txt')):\n",
    "        continue\n",
    "    edicao, nivel, fase, nome = splitted\n",
    "    if os.path.exists(path):\n",
    "        time.sleep(random.uniform(5, 10))\n",
    "        submit_file(base_url+f'{nivel}/{edicao}/{fase}/{nome}/', path)"
   ]
  },
  {
   "cell_type": "code",
   "execution_count": null,
   "metadata": {
    "id": "1ZRiMYc9EMde"
   },
   "outputs": [],
   "source": [
    "root = './sol'\n",
    "for file in os.listdir(root):\n",
    "    if file.endswith('.txt'):\n",
    "      with open(os.path.join(root, file), \"r\", encoding='utf-8') as f:\n",
    "        if 'Pontuação' not in f.read():\n",
    "            print(f'{file} sem resultado.')"
   ]
  }
 ],
 "metadata": {
  "colab": {
   "authorship_tag": "ABX9TyNgJ97SJMVVtdw8eJOIIC0y",
   "include_colab_link": true,
   "mount_file_id": "17YmamLUnDG5S8XNsbjlHCTrTp3uCNVcU",
   "provenance": []
  },
  "kernelspec": {
   "display_name": "envIC",
   "language": "python",
   "name": "python3"
  },
  "language_info": {
   "codemirror_mode": {
    "name": "ipython",
    "version": 3
   },
   "file_extension": ".py",
   "mimetype": "text/x-python",
   "name": "python",
   "nbconvert_exporter": "python",
   "pygments_lexer": "ipython3",
   "version": "3.13.0"
  }
 },
 "nbformat": 4,
 "nbformat_minor": 0
}
