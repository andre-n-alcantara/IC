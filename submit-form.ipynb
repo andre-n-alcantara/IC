{
 "cells": [
  {
   "cell_type": "code",
   "execution_count": null,
   "metadata": {
    "colab": {
     "base_uri": "https://localhost:8080/"
    },
    "id": "UDJa7srVwblY",
    "outputId": "3a1e05ac-0354-40b7-a176-081e9ae04816"
   },
   "outputs": [],
   "source": [
    "import requests\n",
    "import os\n",
    "import re\n",
    "import time\n",
    "import random\n",
    "from urllib.request import urlopen\n",
    "from bs4 import BeautifulSoup\n",
    "from selenium import webdriver\n",
    "from selenium.webdriver.common.by import By\n",
    "from selenium.webdriver.support.ui import WebDriverWait\n",
    "from selenium.webdriver.support import expected_conditions as EC\n",
    "from selenium.webdriver.support.ui import Select # Import Select class\n",
    "from selenium.common.exceptions import TimeoutException, WebDriverException, NoSuchElementException\n",
    "from selenium.webdriver.common.action_chains import ActionChains\n",
    "from fake_useragent import UserAgent\n",
    "\n",
    "base_url ='https://olimpiada.ic.unicamp.br/pratique/'\n",
    "root = './sol'\n",
    "\n",
    "def human_scroll(driver):\n",
    "    scroll_height = driver.execute_script(\"return document.body.scrollHeight\")\n",
    "    for _ in range(random.randint(3, 6)):  \n",
    "        scroll = random.randint(200, 600)  \n",
    "        driver.execute_script(f\"window.scrollBy(0, {scroll});\")\n",
    "        time.sleep(random.uniform(0.5, 1.5))  \n",
    "\n",
    "def human_mouse_move(driver, element):\n",
    "    actions = ActionChains(driver)\n",
    "    actions.move_to_element(element).perform()\n",
    "    \n",
    "    time.sleep(random.uniform(0.5, 1.5))\n",
    "def submit_file(base_url, file_path):\n",
    "    file_path = os.path.abspath(file_path)\n",
    "    time.sleep(random.uniform(5, 10))\n",
    "    # Initialize UserAgent object\n",
    "    ua = UserAgent()\n",
    "    # Use selenium to handle delayed redirects\n",
    "    options = webdriver.FirefoxOptions()\n",
    "    options.set_preference(\"general.useragent.override\", ua.random)\n",
    "    #options.add_argument('--headless')  # Enabling headless mode\n",
    "    driver = webdriver.Firefox(options=options)\n",
    "    \n",
    "     # Avoid Selenium detection\n",
    "    options.set_preference(\"dom.webdriver.enabled\", False)\n",
    "    options.set_preference('useAutomationExtension', False)\n",
    "    options.set_preference(\"general.platform.override\", \"Win32\")  \n",
    "    options.set_preference(\"privacy.trackingprotection.enabled\", False)  \n",
    "\n",
    "    try:\n",
    "        driver.get(base_url)  # Navigate to the initial redirect URL\n",
    "    except WebDriverException:\n",
    "        print(f\"{base_url} URL not found\")\n",
    "        driver.quit()\n",
    "        return\n",
    "    select_elem = None\n",
    "    time.sleep(random.uniform(5, 10))\n",
    "    \n",
    "    # Extract CSRF token from cookies (some frameworks use cookies instead of hidden input)\n",
    "    csrf_token = None\n",
    "    for cookie in driver.get_cookies():\n",
    "        if cookie['name'] == 'csrftoken':  # Django uses \"csrftoken\", other frameworks may differ\n",
    "            csrf_token = cookie['value']\n",
    "            break\n",
    "\n",
    "    # If not found in cookies, look for the hidden form field\n",
    "    if csrf_token is None:\n",
    "        try:\n",
    "            csrf_token = driver.find_element(By.NAME, 'csrfmiddlewaretoken').get_attribute('value')\n",
    "        except NoSuchElementException:\n",
    "            print(\"CSRF token not found\")\n",
    "            driver.quit()\n",
    "            return\n",
    "    \n",
    "    human_scroll(driver)  # Scroll before submitting\n",
    "    driver.execute_script(\"window.scrollTo(0, 0);\")\n",
    "    time.sleep(random.uniform(0.5, 1.5))\n",
    "    \n",
    "    try:\n",
    "        select_elem = Select(driver.find_element(By.TAG_NAME, 'select'))\n",
    "    except NoSuchElementException:\n",
    "        if 'pu/' in base_url:\n",
    "            print(f'{base_url} URL not found')\n",
    "            return\n",
    "        base_url=base_url.replace('ps/','pu/')\n",
    "        submit_file(base_url, file_path)\n",
    "        return\n",
    "   \n",
    "    file_input = driver.find_element(By.NAME, 'data')\n",
    "    human_mouse_move(driver, file_input)\n",
    "    time.sleep(random.uniform(1, 3))\n",
    "    file_input.send_keys(file_path)\n",
    "    time.sleep(random.uniform(1, 3))\n",
    "\n",
    "    \n",
    "    form_elem = driver.find_element(By.TAG_NAME, 'form')\n",
    "    driver.execute_script(\"\"\"\n",
    "        var input = document.createElement('input');\n",
    "        input.setAttribute('type', 'hidden');\n",
    "        input.setAttribute('name', 'csrfmiddlewaretoken');\n",
    "        input.setAttribute('value', arguments[0]);\n",
    "        arguments[1].appendChild(input);\n",
    "        return input;\n",
    "    \"\"\", csrf_token, form_elem)\n",
    "    \n",
    "    time.sleep(random.uniform(2, 4))\n",
    "    try:\n",
    "        submit_button = form_elem.find_element(By.CSS_SELECTOR, \"button[type='submit']\")\n",
    "        human_mouse_move(driver, submit_button)  # Move mouse to the button\n",
    "        submit_button.click()\n",
    "    except NoSuchElementException:\n",
    "        print(\"Submit button not found, trying form.submit() instead.\")\n",
    "        form_elem.submit()\n",
    "    # Wait for the final redirect (adjust timeout as needed)\n",
    "    WebDriverWait(driver, 10).until(\n",
    "        EC.url_contains('corrige')  # Wait for URL to change\n",
    "    )\n",
    "    inner_page_element = WebDriverWait(driver, 10).until(\n",
    "        EC.presence_of_element_located((By.CLASS_NAME, \"inner-page\"))\n",
    "    )\n",
    "    inner_page_text = inner_page_element.get_attribute(\"innerText\")\n",
    "    if \"Houve um erro durante o processamento: conexão com o servidor falhou, não retornou valor.\" in inner_page_text:\n",
    "        print(f'Erro de conexão {base_url}.')\n",
    "        driver.quit()\n",
    "        return\n",
    "    try:\n",
    "        final_url = WebDriverWait(driver, 40).until(\n",
    "            EC.url_contains('resultado')  # Wait for URL to change\n",
    "        )\n",
    "        center_element = WebDriverWait(driver, 10).until(\n",
    "            EC.presence_of_element_located((By.CLASS_NAME, 'inner-page'))\n",
    "        )\n",
    "        human_scroll(driver)  # Scroll before submitting\n",
    "        file_path = os.path.join('./sol', file_path.split('\\\\')[-1][:-4]) # Barra invertida para Windows\n",
    "        file_path += '.txt'\n",
    "        with open(os.path.join(file_path), \"w\", encoding='utf-8') as f:\n",
    "            f.write(center_element.text.split('Tarefas Programação',1)[0])\n",
    "        print(f\"{file_path} File saved successfully.\")\n",
    "    except TimeoutException:\n",
    "        print(f\"{file_path} Timeout waiting for redirect.\")\n",
    "\n",
    "    driver.quit()  # Close the browser\n"
   ]
  },
  {
   "cell_type": "code",
   "execution_count": 9,
   "metadata": {},
   "outputs": [
    {
     "name": "stderr",
     "output_type": "stream",
     "text": [
      "The geckodriver version (0.35.0) detected in PATH at C:\\Users\\analc\\miniconda3\\envs\\envIC\\Scripts\\geckodriver.exe might not be compatible with the detected firefox version (135.0.0.2327); currently, geckodriver 0.36.0 is recommended for firefox 135.*, so it is advised to delete the driver in PATH and retry\n"
     ]
    },
    {
     "name": "stdout",
     "output_type": "stream",
     "text": [
      "Erro de conexão https://olimpiada.ic.unicamp.br/pratique/p1/2009/f1/overflow/.\n"
     ]
    },
    {
     "name": "stderr",
     "output_type": "stream",
     "text": [
      "The geckodriver version (0.35.0) detected in PATH at C:\\Users\\analc\\miniconda3\\envs\\envIC\\Scripts\\geckodriver.exe might not be compatible with the detected firefox version (135.0.0.2327); currently, geckodriver 0.36.0 is recommended for firefox 135.*, so it is advised to delete the driver in PATH and retry\n"
     ]
    },
    {
     "name": "stdout",
     "output_type": "stream",
     "text": [
      "Erro de conexão https://olimpiada.ic.unicamp.br/pratique/p1/2009/f2/maratona/.\n"
     ]
    },
    {
     "name": "stderr",
     "output_type": "stream",
     "text": [
      "The geckodriver version (0.35.0) detected in PATH at C:\\Users\\analc\\miniconda3\\envs\\envIC\\Scripts\\geckodriver.exe might not be compatible with the detected firefox version (135.0.0.2327); currently, geckodriver 0.36.0 is recommended for firefox 135.*, so it is advised to delete the driver in PATH and retry\n"
     ]
    },
    {
     "name": "stdout",
     "output_type": "stream",
     "text": [
      "Erro de conexão https://olimpiada.ic.unicamp.br/pratique/p2/2009/f2/banda/.\n"
     ]
    },
    {
     "name": "stderr",
     "output_type": "stream",
     "text": [
      "Exception ignored in: <function Service.__del__ at 0x00000177C39D7880>\n",
      "Traceback (most recent call last):\n",
      "  File \"c:\\Users\\analc\\miniconda3\\envs\\envIC\\Lib\\site-packages\\selenium\\webdriver\\common\\service.py\", line 195, in __del__\n",
      "    self.stop()\n",
      "  File \"c:\\Users\\analc\\miniconda3\\envs\\envIC\\Lib\\site-packages\\selenium\\webdriver\\common\\service.py\", line 152, in stop\n",
      "    self.send_remote_shutdown_command()\n",
      "  File \"c:\\Users\\analc\\miniconda3\\envs\\envIC\\Lib\\site-packages\\selenium\\webdriver\\common\\service.py\", line 132, in send_remote_shutdown_command\n",
      "    request.urlopen(f\"{self.service_url}/shutdown\")\n",
      "  File \"c:\\Users\\analc\\miniconda3\\envs\\envIC\\Lib\\urllib\\request.py\", line 189, in urlopen\n",
      "    return opener.open(url, data, timeout)\n",
      "  File \"c:\\Users\\analc\\miniconda3\\envs\\envIC\\Lib\\urllib\\request.py\", line 489, in open\n",
      "    response = self._open(req, data)\n",
      "  File \"c:\\Users\\analc\\miniconda3\\envs\\envIC\\Lib\\urllib\\request.py\", line 506, in _open\n",
      "    result = self._call_chain(self.handle_open, protocol, protocol +\n",
      "  File \"c:\\Users\\analc\\miniconda3\\envs\\envIC\\Lib\\urllib\\request.py\", line 466, in _call_chain\n",
      "    result = func(*args)\n",
      "  File \"c:\\Users\\analc\\miniconda3\\envs\\envIC\\Lib\\urllib\\request.py\", line 1348, in http_open\n",
      "    return self.do_open(http.client.HTTPConnection, req)\n",
      "  File \"c:\\Users\\analc\\miniconda3\\envs\\envIC\\Lib\\urllib\\request.py\", line 1319, in do_open\n",
      "    h.request(req.get_method(), req.selector, req.data, headers,\n",
      "  File \"c:\\Users\\analc\\miniconda3\\envs\\envIC\\Lib\\http\\client.py\", line 1336, in request\n",
      "    self._send_request(method, url, body, headers, encode_chunked)\n",
      "  File \"c:\\Users\\analc\\miniconda3\\envs\\envIC\\Lib\\http\\client.py\", line 1382, in _send_request\n",
      "    self.endheaders(body, encode_chunked=encode_chunked)\n",
      "  File \"c:\\Users\\analc\\miniconda3\\envs\\envIC\\Lib\\http\\client.py\", line 1331, in endheaders\n",
      "    self._send_output(message_body, encode_chunked=encode_chunked)\n",
      "  File \"c:\\Users\\analc\\miniconda3\\envs\\envIC\\Lib\\http\\client.py\", line 1091, in _send_output\n",
      "    self.send(msg)\n",
      "  File \"c:\\Users\\analc\\miniconda3\\envs\\envIC\\Lib\\http\\client.py\", line 1035, in send\n",
      "    self.connect()\n",
      "  File \"c:\\Users\\analc\\miniconda3\\envs\\envIC\\Lib\\http\\client.py\", line 1001, in connect\n",
      "    self.sock = self._create_connection(\n",
      "  File \"c:\\Users\\analc\\miniconda3\\envs\\envIC\\Lib\\socket.py\", line 856, in create_connection\n",
      "    exceptions.clear()  # raise only the last error\n",
      "KeyboardInterrupt: \n",
      "The geckodriver version (0.35.0) detected in PATH at C:\\Users\\analc\\miniconda3\\envs\\envIC\\Scripts\\geckodriver.exe might not be compatible with the detected firefox version (135.0.0.2327); currently, geckodriver 0.36.0 is recommended for firefox 135.*, so it is advised to delete the driver in PATH and retry\n"
     ]
    },
    {
     "ename": "KeyboardInterrupt",
     "evalue": "",
     "output_type": "error",
     "traceback": [
      "\u001b[1;31m---------------------------------------------------------------------------\u001b[0m",
      "\u001b[1;31mKeyboardInterrupt\u001b[0m                         Traceback (most recent call last)",
      "Cell \u001b[1;32mIn[9], line 16\u001b[0m\n\u001b[0;32m     14\u001b[0m \u001b[38;5;28;01mif\u001b[39;00m os\u001b[38;5;241m.\u001b[39mpath\u001b[38;5;241m.\u001b[39mexists(path):\n\u001b[0;32m     15\u001b[0m     time\u001b[38;5;241m.\u001b[39msleep(random\u001b[38;5;241m.\u001b[39muniform(\u001b[38;5;241m5\u001b[39m, \u001b[38;5;241m10\u001b[39m))\n\u001b[1;32m---> 16\u001b[0m     \u001b[43msubmit_file\u001b[49m\u001b[43m(\u001b[49m\u001b[43mbase_url\u001b[49m\u001b[38;5;241;43m+\u001b[39;49m\u001b[38;5;124;43mf\u001b[39;49m\u001b[38;5;124;43m'\u001b[39;49m\u001b[38;5;132;43;01m{\u001b[39;49;00m\u001b[43mnivel\u001b[49m\u001b[38;5;132;43;01m}\u001b[39;49;00m\u001b[38;5;124;43m/\u001b[39;49m\u001b[38;5;132;43;01m{\u001b[39;49;00m\u001b[43medicao\u001b[49m\u001b[38;5;132;43;01m}\u001b[39;49;00m\u001b[38;5;124;43m/\u001b[39;49m\u001b[38;5;132;43;01m{\u001b[39;49;00m\u001b[43mfase\u001b[49m\u001b[38;5;132;43;01m}\u001b[39;49;00m\u001b[38;5;124;43m/\u001b[39;49m\u001b[38;5;132;43;01m{\u001b[39;49;00m\u001b[43mnome\u001b[49m\u001b[38;5;132;43;01m}\u001b[39;49;00m\u001b[38;5;124;43m/\u001b[39;49m\u001b[38;5;124;43m'\u001b[39;49m\u001b[43m,\u001b[49m\u001b[43m \u001b[49m\u001b[43mpath\u001b[49m\u001b[43m)\u001b[49m\n",
      "Cell \u001b[1;32mIn[7], line 56\u001b[0m, in \u001b[0;36msubmit_file\u001b[1;34m(base_url, file_path)\u001b[0m\n\u001b[0;32m     54\u001b[0m     \u001b[38;5;28;01mreturn\u001b[39;00m\n\u001b[0;32m     55\u001b[0m select_elem \u001b[38;5;241m=\u001b[39m \u001b[38;5;28;01mNone\u001b[39;00m\n\u001b[1;32m---> 56\u001b[0m \u001b[43mtime\u001b[49m\u001b[38;5;241;43m.\u001b[39;49m\u001b[43msleep\u001b[49m\u001b[43m(\u001b[49m\u001b[43mrandom\u001b[49m\u001b[38;5;241;43m.\u001b[39;49m\u001b[43muniform\u001b[49m\u001b[43m(\u001b[49m\u001b[38;5;241;43m5\u001b[39;49m\u001b[43m,\u001b[49m\u001b[43m \u001b[49m\u001b[38;5;241;43m10\u001b[39;49m\u001b[43m)\u001b[49m\u001b[43m)\u001b[49m\n\u001b[0;32m     58\u001b[0m \u001b[38;5;66;03m# Extract CSRF token from cookies (some frameworks use cookies instead of hidden input)\u001b[39;00m\n\u001b[0;32m     59\u001b[0m csrf_token \u001b[38;5;241m=\u001b[39m \u001b[38;5;28;01mNone\u001b[39;00m\n",
      "\u001b[1;31mKeyboardInterrupt\u001b[0m: "
     ]
    }
   ],
   "source": [
    "import os\n",
    "root = './pratique'\n",
    "for folder in os.listdir(root):\n",
    "    if not folder.startswith('2'):\n",
    "        continue\n",
    "    path = os.path.join(root,folder,folder+'.cpp')\n",
    "    splitted =  folder.split('-')\n",
    "    if len(splitted) != 4:\n",
    "        print(f'{folder} inválido.')\n",
    "        continue\n",
    "    if os.path.exists(os.path.join('./sol',folder+'.txt')):\n",
    "        continue\n",
    "    edicao, nivel, fase, nome = splitted\n",
    "    if os.path.exists(path):\n",
    "        time.sleep(random.uniform(5, 10))\n",
    "        submit_file(base_url+f'{nivel}/{edicao}/{fase}/{nome}/', path)"
   ]
  },
  {
   "cell_type": "code",
   "execution_count": null,
   "metadata": {
    "id": "1ZRiMYc9EMde"
   },
   "outputs": [],
   "source": [
    "root = './sol'\n",
    "for file in os.listdir(root):\n",
    "    if file.endswith('.txt'):\n",
    "      with open(os.path.join(root, file), \"r\", encoding='utf-8') as f:\n",
    "        if 'Pontuação' not in f.read():\n",
    "            print(f'{file} sem resultado.')"
   ]
  }
 ],
 "metadata": {
  "colab": {
   "authorship_tag": "ABX9TyNgJ97SJMVVtdw8eJOIIC0y",
   "include_colab_link": true,
   "mount_file_id": "17YmamLUnDG5S8XNsbjlHCTrTp3uCNVcU",
   "provenance": []
  },
  "kernelspec": {
   "display_name": "envIC",
   "language": "python",
   "name": "python3"
  },
  "language_info": {
   "codemirror_mode": {
    "name": "ipython",
    "version": 3
   },
   "file_extension": ".py",
   "mimetype": "text/x-python",
   "name": "python",
   "nbconvert_exporter": "python",
   "pygments_lexer": "ipython3",
   "version": "3.13.0"
  }
 },
 "nbformat": 4,
 "nbformat_minor": 0
}
