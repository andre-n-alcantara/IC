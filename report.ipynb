{
 "cells": [
  {
   "cell_type": "code",
   "execution_count": 2,
   "metadata": {},
   "outputs": [],
   "source": [
    "import os\n",
    "import re\n",
    "import json\n",
    "results = {}\n",
    "with open('./results.json', 'r', encoding='utf-8') as f:\n",
    "    results = json.load(f)\n",
    "    \n",
    "codigos = results.keys()"
   ]
  },
  {
   "cell_type": "code",
   "execution_count": 3,
   "metadata": {},
   "outputs": [],
   "source": [
    "\n",
    "# result = { \n",
    "#     \"pontuacao\" : None,\n",
    "#     \"n_subtarefas\" : None,\n",
    "#     \"subtarefas100\" : None,\n",
    "#     \"tempo_lim\" : None,\n",
    "#     \"mem_lim\" : None,\n",
    "#     \"tempo\" : None,\n",
    "#     \"mem\" : None,\n",
    "#     \"comp\" : None,\n",
    "#     \"stderr\" : None \n",
    "# }\n",
    "list_error = []\n",
    "list_warning = []\n",
    "list_accepted = []\n",
    "list_TLE = []\n",
    "list_MLE = []\n",
    "for codigo in codigos:\n",
    "    data = results[codigo]\n",
    "    if not data[\"comp\"]:\n",
    "        list_error.append(codigo)\n",
    "        continue\n",
    "    if len(data[\"stderr\"])>1:\n",
    "        list_warning.append(codigo)\n",
    "    if data[\"pontuacao\"] == 100:\n",
    "        list_accepted.append(codigo)\n",
    "    if data[\"tempo\"] >= data[\"tempo_lim\"]:\n",
    "        list_TLE.append(codigo)\n",
    "    if data[\"mem\"] >= data[\"mem_lim\"]:\n",
    "        list_MLE.append(codigo)\n",
    "\n",
    "\n",
    "\n",
    "    \n",
    "        "
   ]
  },
  {
   "cell_type": "code",
   "execution_count": 4,
   "metadata": {},
   "outputs": [],
   "source": [
    "\n",
    "# para encontrar enunciado, considerar 'entrada' após primeira ocorrência de 'Exemplo'\n",
    "for codigo in codigos:\n",
    "    with open(f'./pratique/{codigo}/{codigo}.txt', 'r', encoding='utf-8') as f:\n",
    "        text = f.read()\n",
    "    search = re.search(r'Exemplo', text)\n",
    "    if search is None:\n",
    "        print(f'{codigo} sem exemplos.')\n",
    "        continue\n",
    "    splitted = text.split('Exemplo')\n",
    "    if re.search(r'[Ee]ntrada', splitted[0]) is None or re.search(r'[Ss]a[ií]da', splitted[0]) is None:\n",
    "        print(f'{codigo} com exemplo traiçoeiro.')"
   ]
  },
  {
   "cell_type": "code",
   "execution_count": 5,
   "metadata": {},
   "outputs": [],
   "source": [
    "def count_words(text):\n",
    "    return len(re.findall(r'\\S+', text))\n",
    "def get_info(info, codigo):\n",
    "    info[codigo] = {\n",
    "        \"len_enunciado\": None,\n",
    "        \"len_entrada\": None,\n",
    "        \"len_saida\": None,\n",
    "        \"n_restricoes\": None,\n",
    "        \"n_exemplos\": None\n",
    "    }\n",
    "    text = ''\n",
    "    with open(f'./pratique/{codigo}/{codigo}.txt', 'r', encoding='utf-8') as f:\n",
    "        text = f.read()\n",
    "    data = info[codigo]\n",
    "    enunciado, text = re.split(r'Exemplo',text,maxsplit=1) \n",
    "    sections = re.split(r'[Ee]ntrada',text)\n",
    "    data[\"len_enunciado\"] = count_words(enunciado)\n",
    "    n_exemplos = len(sections)-1\n",
    "    len_entrada = 0\n",
    "    len_saida = 0\n",
    "    if n_exemplos > 0:\n",
    "        for section in sections[1:]:\n",
    "            splitted = re.split(r'\\n[^\\n]*[Ss]a[ií]da[^\\n]*\\n',section) # verificado se existe string 'Saida' nos textos # verificado se as strings procuradas existem nos textos\n",
    "            entrada = splitted[0]\n",
    "            try:\n",
    "                saida = splitted[1]\n",
    "            except:\n",
    "                print(f'{codigo} com erro.')\n",
    "                print(section, \"AAAA\", splitted)\n",
    "                return\n",
    "            if len(entrada.strip()) == 0 or len(saida.strip()) == 0:\n",
    "                print(f'{codigo} com entrada ou saida vazia.')\n",
    "                return\n",
    "            len_entrada += count_words(entrada)\n",
    "            len_saida += count_words(saida)\n",
    "        len_entrada /= n_exemplos\n",
    "        len_saida /= n_exemplos\n",
    "        data[\"len_entrada\"] = len_entrada\n",
    "        data[\"len_saida\"] = len_saida\n",
    "    data[\"n_exemplos\"] = n_exemplos\n",
    "    data[\"n_restricoes\"] = enunciado.count('≤')+enunciado.count('≥')\n",
    "info = {}\n",
    "ignore = ['2011_p1_f1_pulosapo'] # foge do modelo de enunciado\n",
    "for codigo in codigos:\n",
    "    if codigo in ignore:\n",
    "        continue\n",
    "    get_info(info, codigo)\n",
    "\n",
    "info['2011_p1_f1_pulosapo'] = {\n",
    "    \"len_enunciado\": 357,\n",
    "    \"len_entrada\": 8.0,\n",
    "    \"len_saida\": 12.5,\n",
    "    \"n_restricoes\": 4,\n",
    "    \"n_exemplos\": 2\n",
    "}\n",
    "        "
   ]
  },
  {
   "cell_type": "code",
   "execution_count": 6,
   "metadata": {},
   "outputs": [],
   "source": [
    "comentarios = {}\n",
    "def get_comentarios(comentarios, codigo):\n",
    "    with open(f'./pratique/{codigo}/{codigo}.cpp', 'r', encoding='utf-8') as f:\n",
    "        code = f.read()\n",
    "    search = re.findall(r'(//.*?$|/\\*.*?\\*/)', code, re.DOTALL | re.MULTILINE)\n",
    "    if len(search) > 0:\n",
    "        comentarios[codigo] = search\n",
    "for codigo in codigos:\n",
    "    get_comentarios(comentarios, codigo)\n"
   ]
  },
  {
   "cell_type": "code",
   "execution_count": 7,
   "metadata": {},
   "outputs": [],
   "source": [
    "contain_image = []\n",
    "with open('./pratique/contain_image.json', 'r', encoding='utf-8') as f:\n",
    "    contain_image = json.load(f)\n",
    "for i in range(len(contain_image)):\n",
    "    splitted = contain_image[i].split('/')\n",
    "    nivel = splitted[2]\n",
    "    edicao = splitted[3]\n",
    "    fase = splitted[4]\n",
    "    nome = splitted[5]\n",
    "    contain_image[i] = f'{edicao}_{nivel}_{fase}_{nome}'"
   ]
  },
  {
   "cell_type": "code",
   "execution_count": 8,
   "metadata": {},
   "outputs": [
    {
     "name": "stderr",
     "output_type": "stream",
     "text": [
      "C:\\Users\\analc\\AppData\\Local\\Temp\\ipykernel_9960\\2331089596.py:43: SettingWithCopyWarning: \n",
      "A value is trying to be set on a copy of a slice from a DataFrame.\n",
      "Try using .loc[row_indexer,col_indexer] = value instead\n",
      "\n",
      "See the caveats in the documentation: https://pandas.pydata.org/pandas-docs/stable/user_guide/indexing.html#returning-a-view-versus-a-copy\n",
      "  df_comp.loc[:, 'n_subtarefas_group'] = pd.cut(\n"
     ]
    }
   ],
   "source": [
    "# Importando bibliotecas necessárias\n",
    "import pandas as pd\n",
    "import numpy as np\n",
    "import matplotlib.pyplot as plt\n",
    "import seaborn as sns\n",
    "from scipy.interpolate import make_interp_spline\n",
    "\n",
    "# Configurações globais para os gráficos\n",
    "# sns.set_theme(style=\"whitegrid\")\n",
    "# plt.rcParams[\"figure.figsize\"] = (10, 6)\n",
    "# plt.rcParams[\"font.size\"] = 12\n",
    "\n",
    "# Convertendo os dicionários em DataFrames para facilitar a análise\n",
    "results_df = pd.DataFrame.from_dict(results, orient=\"index\")\n",
    "info_df = pd.DataFrame.from_dict(info, orient=\"index\")\n",
    "\n",
    "# Unindo os dois DataFrames\n",
    "df = results_df.join(info_df)\n",
    "df[\"edicao\"] = df.index.str.split(\"_\").str[0]\n",
    "df[\"nivel\"] = df.index.str.split(\"_\").str[1]\n",
    "df[\"fase\"] = df.index.str.split(\"_\").str[2]\n",
    "df[\"contain_image\"] = df.index.isin(contain_image)\n",
    "df.loc[(df[\"comp\"]==False), \"pontuacao\"] = 0\n",
    "# Valid df: compilation success, not TLE, not MLE\n",
    "# Use .loc[] to create the new column\n",
    "bins = [0, 200, 400, np.inf]\n",
    "labels = [\"<=200\", \"<=400\", \">400\"]\n",
    "df.loc[:, 'len_enunciado_group'] = pd.cut(\n",
    "    df['len_enunciado'],\n",
    "    bins=bins,\n",
    "    labels=labels,\n",
    "    right=True\n",
    ")\n",
    "df_comp = df[(df[\"comp\"] == True)]\n",
    "\n",
    "\n",
    "\n",
    "bins = [0, 5, 10, np.inf]\n",
    "labels = [\"1-5\", \"6-10\", \"11+\"]\n",
    "\n",
    "\n",
    "# Use .loc[] to create the new column\n",
    "df_comp.loc[:, 'n_subtarefas_group'] = pd.cut(\n",
    "    df_comp['n_subtarefas'],\n",
    "    bins=bins,\n",
    "    labels=labels,\n",
    "    right=True\n",
    ")\n",
    "\n",
    "\n",
    "\n",
    "\n",
    "\n",
    "df_noerror = df_comp[(~df_comp.index.isin(list_TLE)) & (~df_comp.index.isin(list_MLE))]\n",
    "df_TLE = df_comp[(df_comp.index.isin(list_TLE))]\n",
    "df_MLE = df_comp[(df_comp.index.isin(list_MLE))]\n",
    "df_image = df[df[\"contain_image\"] == True]\n",
    "df_noimage = df[df[\"contain_image\"] == False]\n",
    "\n"
   ]
  },
  {
   "cell_type": "code",
   "execution_count": 8,
   "metadata": {},
   "outputs": [
    {
     "name": "stdout",
     "output_type": "stream",
     "text": [
      "fase\n",
      "f2    198\n",
      "f1    190\n",
      "f3     72\n",
      "Name: count, dtype: int64\n",
      "nivel\n",
      "p2    161\n",
      "p1    128\n",
      "pj    106\n",
      "ps     65\n",
      "Name: count, dtype: int64\n",
      "contain_image\n",
      "False    298\n",
      "True     162\n",
      "Name: count, dtype: int64\n",
      "len_enunciado_group\n",
      "<=400    316\n",
      ">400      90\n",
      "<=200     54\n",
      "Name: count, dtype: int64\n",
      "n_subtarefas_group\n",
      "6-10    197\n",
      "1-5     161\n",
      "11+      52\n",
      "Name: count, dtype: int64\n"
     ]
    }
   ],
   "source": [
    "print(df['fase'].value_counts()) \n",
    "print(df['nivel'].value_counts())\n",
    "print(df['contain_image'].value_counts())\n",
    "print(df['len_enunciado_group'].value_counts())\n",
    "print(df_comp['n_subtarefas_group'].value_counts())"
   ]
  },
  {
   "cell_type": "code",
   "execution_count": 12,
   "metadata": {},
   "outputs": [
    {
     "name": "stdout",
     "output_type": "stream",
     "text": [
      "122 745\n",
      "2.0 20.0\n",
      "1 6\n",
      "140\n"
     ]
    }
   ],
   "source": [
    "print(df['len_enunciado'].min(), df['len_enunciado'].max())\n",
    "print(df_comp['n_subtarefas'].min(), df_comp['n_subtarefas'].max())\n",
    "print(df['n_exemplos'].min(), df['n_exemplos'].max())\n",
    "print((df[\"pontuacao\"]==100).sum())"
   ]
  },
  {
   "cell_type": "code",
   "execution_count": 55,
   "metadata": {},
   "outputs": [
    {
     "name": "stdout",
     "output_type": "stream",
     "text": [
      "745\n",
      "122\n",
      "225.0\n",
      "1.0\n",
      "45.333333333333336\n",
      "1.0\n",
      "6\n",
      "1\n"
     ]
    }
   ],
   "source": [
    "enunciados = [info[codigo]['len_enunciado'] for codigo in codigos]\n",
    "print(max(enunciados))\n",
    "print(min(enunciados))\n",
    "entradas = [info[codigo]['len_entrada'] for codigo in codigos]\n",
    "print(max(entradas))\n",
    "print(min(entradas))\n",
    "saidas = [info[codigo]['len_saida'] for codigo in codigos]\n",
    "print(max(saidas))\n",
    "print(min(saidas))\n",
    "exemplos = [info[codigo]['n_exemplos'] for codigo in codigos]\n",
    "print(max(exemplos))\n",
    "print(min(exemplos))"
   ]
  },
  {
   "cell_type": "code",
   "execution_count": 29,
   "metadata": {},
   "outputs": [
    {
     "name": "stderr",
     "output_type": "stream",
     "text": [
      "C:\\Users\\analc\\AppData\\Local\\Temp\\ipykernel_9696\\3236327373.py:30: UserWarning: set_ticklabels() should only be used with a fixed number of ticks, i.e. after set_ticks() or using a FixedLocator.\n",
      "  ax.set_yticklabels(labels, fontsize=15)\n"
     ]
    },
    {
     "data": {
      "image/png": "[encoded data removed]",
      "text/plain": [
       "<Figure size 1000x600 with 1 Axes>"
      ]
     },
     "metadata": {},
     "output_type": "display_data"
    }
   ],
   "source": [
    "plt.rcParams[\"font.family\"] = \"serif\"  \n",
    "comp_false = (df[\"comp\"]==False).sum()\n",
    "tle = (df.index.isin(list_TLE)).sum()\n",
    "mle = (df.index.isin(list_MLE)).sum()\n",
    "score0 = ((df[\"comp\"]==True) & (~df.index.isin(list_TLE)) & (~df.index.isin(list_MLE)) & (df[\"pontuacao\"]==0)).sum()\n",
    "score100 = (df[\"pontuacao\"]==100).sum()\n",
    "other = len(df) - score100 - score0 - comp_false - tle - mle\n",
    "\n",
    "# Dados\n",
    "labels = [\"Não compila\", \"MLE\", \"TLE\", \"Zero\", \"Acerto\", \"Parcial\"]\n",
    "sizes = [comp_false, mle, tle, score0, score100, other]\n",
    "colors = ['gray', 'gold', 'orangered', 'firebrick', 'green', 'cornflowerblue']\n",
    "\n",
    "# Ordenando do maior para o menor (opcional)\n",
    "sorted_indices = np.argsort(sizes)[::-1]\n",
    "labels = [labels[i] for i in sorted_indices]\n",
    "sizes = [sizes[i] for i in sorted_indices]\n",
    "colors = [colors[i] for i in sorted_indices]\n",
    "\n",
    "# Criando o gráfico\n",
    "fig, ax = plt.subplots(figsize=(10, 6))\n",
    "bars = ax.barh(labels, sizes, color=colors, edgecolor='black')\n",
    "\n",
    "# Adicionando os valores nas barras\n",
    "for bar, size in zip(bars, sizes):\n",
    "    ax.text(bar.get_width() + max(sizes) * 0.02, bar.get_y() + bar.get_height()/2,\n",
    "            f\"{size} ({size/sum(sizes)*100:.1f}%)\", va='center', fontsize=14)\n",
    "\n",
    "ax.set_xlabel(\"Frequência\", fontsize=14, labelpad=10)\n",
    "ax.set_yticklabels(labels, fontsize=15)\n",
    "ax.set_xlim(0, 200)\n",
    "plt.gca().invert_yaxis()  # Inverte a ordem para manter do maior para o menor\n",
    "plt.grid(axis='x', linestyle='--', alpha=0.6)\n",
    "plt.show()\n"
   ]
  },
  {
   "cell_type": "code",
   "execution_count": 39,
   "metadata": {},
   "outputs": [
    {
     "data": {
      "image/png": "[encoded data removed]",
      "text/plain": [
       "<Figure size 600x600 with 1 Axes>"
      ]
     },
     "metadata": {},
     "output_type": "display_data"
    }
   ],
   "source": [
    "\n",
    "data1 = [\n",
    "    ((df_noimage[\"comp\"] == False) | \n",
    "     (df_noimage.index.isin(list_TLE)) | \n",
    "     (df_noimage.index.isin(list_MLE)) | \n",
    "     (df_noimage[\"pontuacao\"] == 0)).sum() / len(df_noimage) * 100,\n",
    "\n",
    "    ((df_image[\"comp\"] == False) | \n",
    "     (df_image.index.isin(list_TLE)) | \n",
    "     (df_image.index.isin(list_MLE)) | \n",
    "     (df_image[\"pontuacao\"] == 0)).sum() / len(df_image) * 100\n",
    "]\n",
    "\n",
    "data2 = [\n",
    "    (df_noimage[\"pontuacao\"] == 100).sum() / len(df_noimage) * 100,\n",
    "    (df_image[\"pontuacao\"] == 100).sum() / len(df_image) * 100\n",
    "]\n",
    "\n",
    "# Define labels and positions\n",
    "labels = [\"Sem imagem\", \"Com imagem\"]\n",
    "x = np.arange(len(labels))\n",
    "\n",
    "# Define bar width and patterns for grayscale visibility\n",
    "width = 0.35  # Width of bars\n",
    "\n",
    "# Create figure\n",
    "fig, ax = plt.subplots(figsize=(6, 6))\n",
    "\n",
    "# Plot bars with colors and patterns\n",
    "bars1 = ax.bar(x - width/2, data1, width, label='Erro', color='firebrick', hatch='//', edgecolor='white')\n",
    "bars2 = ax.bar(x + width/2, data2, width, label='Acerto', color='green', hatch='-', edgecolor='white')\n",
    "ax.set_ylim(0, 100)\n",
    "ax.grid(axis='y', linestyle='--')\n",
    "ax.xaxis.grid(False)\n",
    "# Set y-axis ticks to go in increments of 10\n",
    "ax.set_yticks(np.arange(0, 101, 20))\n",
    "# Labels and title\n",
    "ax.set_ylabel(\"%\", fontdict={'fontsize': 16}, rotation=0, labelpad=20)\n",
    "ax.set_xticks(x)\n",
    "ax.set_xticklabels(labels, fontdict={'fontsize': 18})\n",
    "ax.tick_params(axis='x', which='major', pad=15)\n",
    "\n",
    "ax.legend(prop={'size': 15})\n",
    "\n",
    "# Make y ticks bolder and bigger\n",
    "for label in ax.get_yticklabels():\n",
    "    label.set_fontsize(15)\n",
    "    \n",
    "\n",
    "# Display plot\n",
    "plt.tight_layout() # Adjust layout to prevent labels from overlapping\n",
    "plt.show()\n",
    "\n",
    "\n",
    "# incluir pontuacao media por categoria\n"
   ]
  },
  {
   "cell_type": "code",
   "execution_count": 26,
   "metadata": {},
   "outputs": [
    {
     "name": "stdout",
     "output_type": "stream",
     "text": [
      "Sem imagem\n",
      "comp_false 30 10.06711409395973 % mle 3 1.006711409395973 % tle 21 7.046979865771812 % score0 88 29.53020134228188 % score100 112 37.58389261744966 % other 44 14.76510067114094 %\n",
      "Com imagem\n",
      "comp_false 20 12.345679012345679 % mle 0 0.0 % tle 23 14.19753086419753 % score0 73 45.06172839506173 % score100 28 17.28395061728395 % other 18 11.11111111111111 %\n"
     ]
    }
   ],
   "source": [
    "def get_stats(df):\n",
    "    comp_false = (df[\"comp\"]==False).sum()\n",
    "    tle = (df.index.isin(list_TLE)).sum()\n",
    "    mle = (df.index.isin(list_MLE)).sum()\n",
    "    score0 = ((df[\"comp\"]==True) & (~df.index.isin(list_TLE)) & (~df.index.isin(list_MLE)) & (df[\"pontuacao\"]==0)).sum()\n",
    "    score100 = (df[\"pontuacao\"]==100).sum()\n",
    "    other = len(df) - score100 - score0 - comp_false - tle - mle\n",
    "    print('comp_false', comp_false, comp_false/len(df)*100,'%','mle', mle,mle/len(df)*100,'%','tle', tle,tle/len(df)*100,'%',  'score0', score0,score0/len(df)*100,'%', 'score100', score100, score100/len(df)*100,'%','other', other, other/len(df)*100,'%')\n",
    "    \n",
    "print('Sem imagem')\n",
    "get_stats(df_noimage)\n",
    "print('Com imagem')\n",
    "get_stats(df_image)"
   ]
  },
  {
   "cell_type": "code",
   "execution_count": 29,
   "metadata": {},
   "outputs": [
    {
     "name": "stdout",
     "output_type": "stream",
     "text": [
      "2.0 20.0\n",
      "n_subtarefas_group\n",
      "6-10    197\n",
      "1-5     161\n",
      "11+      52\n",
      "Name: count, dtype: int64\n",
      "Pontuação média + Porcentagem de acerto:\n",
      "[('1-5', np.float64(41.67701863354037), np.float64(38.50931677018634)), ('6-10', np.float64(40.253807106598984), np.float64(30.96446700507614)), ('11+', np.float64(48.65384615384615), np.float64(32.69230769230769))]\n",
      "Média geral de pontuação (compilados): 41.8780487804878\n",
      "Acertos gerais: 34.146341463414636\n",
      "Quantidade de acertos:\n",
      "1-5 62\n",
      "6-10 61\n",
      "11+ 17\n"
     ]
    }
   ],
   "source": [
    "print(df_comp['n_subtarefas'].min(), df_comp['n_subtarefas'].max())\n",
    "print(df_comp['n_subtarefas_group'].value_counts())\n",
    "print('Pontuação média + Porcentagem de acerto:')\n",
    "media_subtarefas = [(group, df_comp[df_comp['n_subtarefas_group'] == group]['pontuacao'].mean(), (df_comp[df_comp['n_subtarefas_group'] == group]['pontuacao']==100).sum()/(df_comp['n_subtarefas_group'] == group).sum()*100) for group in [\"1-5\", \"6-10\", \"11+\"]]\n",
    "print(media_subtarefas)\n",
    "print('Média geral de pontuação (compilados):', df_comp['pontuacao'].mean())\n",
    "print('Acertos gerais:', (df_comp['pontuacao']==100).sum()/len(df_comp)*100)\n",
    "print('Quantidade de acertos:')\n",
    "for group in [\"1-5\", \"6-10\", \"11+\"]:\n",
    "    print(group, (df_comp[df_comp['n_subtarefas_group'] == group]['pontuacao']==100).sum())\n",
    "    "
   ]
  },
  {
   "cell_type": "code",
   "execution_count": 24,
   "metadata": {},
   "outputs": [
    {
     "name": "stdout",
     "output_type": "stream",
     "text": [
      "fase\n",
      "f2    198\n",
      "f1    190\n",
      "f3     72\n",
      "Name: count, dtype: int64\n",
      "nivel\n",
      "p2    161\n",
      "p1    128\n",
      "pj    106\n",
      "ps     65\n",
      "Name: count, dtype: int64\n",
      "Média de tam. de enunciado + Média de exemplos:\n",
      "[('f1', np.float64(304.87894736842105), np.float64(2.6052631578947367)), ('f2', np.float64(334.35858585858585), np.float64(2.691919191919192)), ('f3', np.float64(323.375), np.float64(2.6805555555555554))]\n",
      "[('pj', np.float64(283.7641509433962), np.float64(2.7169811320754715)), ('p1', np.float64(315.359375), np.float64(2.65625)), ('p2', np.float64(346.3167701863354), np.float64(2.627329192546584)), ('ps', np.float64(326.32307692307694), np.float64(2.6153846153846154))]\n",
      "Média geral de tam. de enunciado: 320.4630434782609\n",
      "Média geral de exemplos: 2.6543478260869566\n"
     ]
    }
   ],
   "source": [
    "print(df['fase'].value_counts())\n",
    "print(df['nivel'].value_counts())\n",
    "fases = ['f1', 'f2', 'f3']\n",
    "niveis = ['pj', 'p1', 'p2', 'ps']\n",
    "media_fases = [(fase, df[df['fase'] == fase]['len_enunciado'].mean(), df[df['fase'] == fase]['n_exemplos'].mean()) for fase in fases]\n",
    "media_niveis = [(nivel, df[df['nivel'] == nivel]['len_enunciado'].mean(), df[df['nivel'] == nivel]['n_exemplos'].mean()) for nivel in niveis]\n",
    "print('Média de tam. de enunciado + Média de exemplos:')\n",
    "print(media_fases)\n",
    "print(media_niveis)\n",
    "print('Média geral de tam. de enunciado:', df['len_enunciado'].mean())\n",
    "print('Média geral de exemplos:',df['n_exemplos'].mean())"
   ]
  },
  {
   "cell_type": "code",
   "execution_count": 30,
   "metadata": {},
   "outputs": [
    {
     "name": "stdout",
     "output_type": "stream",
     "text": [
      "122 745\n",
      "len_enunciado_group\n",
      "<=400    316\n",
      ">400      90\n",
      "<=200     54\n",
      "Name: count, dtype: int64\n",
      "Pontuação média + Porcentagem de acerto:\n",
      "[('<=200', np.float64(50.55555555555556), np.float64(44.44444444444444)), ('<=400', np.float64(39.572784810126585), np.float64(32.91139240506329)), ('>400', np.float64(21.5), np.float64(13.333333333333334))]\n",
      "Média geral de pontuação: 37.32608695652174\n",
      "Acertos gerais: 30.434782608695656\n",
      "<=200 24\n",
      "<=400 104\n",
      ">400 12\n"
     ]
    }
   ],
   "source": [
    "print(df['len_enunciado'].min(), df['len_enunciado'].max())\n",
    "print(df['len_enunciado_group'].value_counts())\n",
    "print('Pontuação média + Porcentagem de acerto:')\n",
    "media_enunciado = [(group, df[df['len_enunciado_group'] == group]['pontuacao'].mean(), (df[df['len_enunciado_group'] == group]['pontuacao']==100).sum()/(df['len_enunciado_group'] == group).sum()*100) for group in [\"<=200\", \"<=400\", \">400\"]]\n",
    "print(media_enunciado)\n",
    "print('Média geral de pontuação:', df['pontuacao'].mean())\n",
    "print('Acertos gerais:', (df['pontuacao']==100).sum()/len(df)*100)\n",
    "for group in [\"<=200\", \"<=400\", \">400\"]:\n",
    "    print(group, (df[df['len_enunciado_group'] == group]['pontuacao']==100).sum())"
   ]
  },
  {
   "cell_type": "code",
   "execution_count": null,
   "metadata": {},
   "outputs": [
    {
     "name": "stdout",
     "output_type": "stream",
     "text": [
      "1 6\n",
      "n_exemplos\n",
      "3    218\n",
      "2    198\n",
      "4     27\n",
      "5      9\n",
      "1      6\n",
      "6      2\n",
      "Name: count, dtype: int64\n",
      "[(1, np.float64(33.333333333333336), np.float64(33.33333333333333)), (2, np.float64(37.398989898989896), np.float64(32.82828282828283)), (3, np.float64(38.50917431192661), np.float64(28.899082568807337)), (4, np.float64(38.888888888888886), np.float64(33.33333333333333)), (5, np.float64(11.11111111111111), np.float64(11.11111111111111)), (6, np.float64(10.0), np.float64(0.0))]\n",
      "Média geral: 37.32608695652174\n",
      "Acertos gerais: 30.434782608695656\n"
     ]
    }
   ],
   "source": [
    "print(df['n_exemplos'].min(), df['n_exemplos'].max())\n",
    "print(df['n_exemplos'].value_counts())\n",
    "print('Pontuação média + Porcentagem de acerto:')\n",
    "media_exemplos = [(group, df[df['n_exemplos'] == group]['pontuacao'].mean(), (df[df['n_exemplos'] == group]['pontuacao']==100).sum()/(df['n_exemplos'] == group).sum()*100) for group in range(1, 7)]\n",
    "print(media_exemplos)\n",
    "print('Média geral de pontuação:', df['pontuacao'].mean())\n",
    "print('Acertos gerais:', (df['pontuacao']==100).sum()/len(df)*100)\n",
    "for group in range(1, 7):\n",
    "    print(group, (df[df['n_exemplos'] == group]['pontuacao']==100).sum())"
   ]
  },
  {
   "cell_type": "code",
   "execution_count": null,
   "metadata": {},
   "outputs": [
    {
     "name": "stdout",
     "output_type": "stream",
     "text": [
      "fase\n",
      "f2    198\n",
      "f1    190\n",
      "f3     72\n",
      "Name: count, dtype: int64\n",
      "nivel\n",
      "p2    161\n",
      "p1    128\n",
      "pj    106\n",
      "ps     65\n",
      "Name: count, dtype: int64\n",
      "[('f1', np.float64(43.3421052631579), np.float64(36.31578947368421)), ('f2', np.float64(34.898989898989896), np.float64(28.28282828282828)), ('f3', np.float64(28.125), np.float64(20.833333333333336))]\n",
      "[('pj', np.float64(66.22641509433963), np.float64(58.490566037735846)), ('p1', np.float64(34.375), np.float64(28.125)), ('p2', np.float64(24.099378881987576), np.float64(15.527950310559005)), ('ps', np.float64(28.76923076923077), np.float64(26.153846153846157))]\n",
      "37.32608695652174\n",
      "30.434782608695656\n"
     ]
    }
   ],
   "source": [
    "print(df['fase'].value_counts())\n",
    "print(df['nivel'].value_counts())\n",
    "fases = ['f1', 'f2', 'f3']\n",
    "niveis = ['pj', 'p1', 'p2', 'ps']\n",
    "print('Pontuação média + Porcentagem de acerto:')\n",
    "media_fases = [(fase, df[df['fase'] == fase]['pontuacao'].mean(), (df[df['fase'] == fase]['pontuacao']==100).sum()/(df['fase'] == fase).sum()*100) for fase in fases]\n",
    "media_niveis = [(nivel, df[df['nivel'] == nivel]['pontuacao'].mean(), (df[df['nivel'] == nivel]['pontuacao']==100).sum()/(df['nivel'] == nivel).sum()*100) for nivel in niveis]\n",
    "print(media_fases)\n",
    "print(media_niveis)\n",
    "print('Média geral de pontuação:', df['pontuacao'].mean())\n",
    "print('Acertos gerais:', (df['pontuacao']==100).sum()/len(df)*100)\n",
    "for fase in fases:\n",
    "    print(fase, (df[df['fase'] == fase]['pontuacao']==100).sum())\n",
    "for nivel in niveis:\n",
    "    print(nivel, (df[df['nivel'] == nivel]['pontuacao']==100).sum())\n",
    "# efeito da baixa amostra de exercicios de nivel universitario"
   ]
  },
  {
   "cell_type": "code",
   "execution_count": null,
   "metadata": {},
   "outputs": [
    {
     "name": "stdout",
     "output_type": "stream",
     "text": [
      "fase\n",
      "f1    172\n",
      "f2    172\n",
      "f3     66\n",
      "Name: count, dtype: int64\n",
      "nivel\n",
      "p2    139\n",
      "p1    113\n",
      "pj    102\n",
      "ps     56\n",
      "Name: count, dtype: int64\n",
      "[('f1', np.float64(9.883720930232558)), ('f2', np.float64(11.627906976744185)), ('f3', np.float64(10.606060606060606))]\n",
      "[('pj', np.float64(4.901960784313726)), ('p1', np.float64(8.849557522123893)), ('p2', np.float64(17.26618705035971)), ('ps', np.float64(8.928571428571429))]\n",
      "10.731707317073171\n"
     ]
    }
   ],
   "source": [
    "print(df_comp['fase'].value_counts())\n",
    "print(df_comp['nivel'].value_counts())\n",
    "fases = ['f1', 'f2', 'f3']\n",
    "niveis = ['pj', 'p1', 'p2', 'ps']\n",
    "print('Porcentagem de TLE (compilados):')\n",
    "media_fases = [(fase, (df_comp[df_comp['fase']==fase].index.isin(list_TLE)).sum()/(df_comp['fase'] == fase).sum()*100) for fase in fases]\n",
    "media_niveis = [(nivel, (df_comp[df_comp['nivel']==nivel].index.isin(list_TLE)).sum()/(df_comp['nivel'] == nivel).sum()*100) for nivel in niveis]\n",
    "print(media_fases)\n",
    "print(media_niveis)\n",
    "print('Porcentagem geral de TLE (compilados):', (df_comp.index.isin(list_TLE)).sum()/len(df_comp)*100)\n",
    "for fase in fases:\n",
    "    print(fase, (df[df['fase'] == fase]['pontuacao']==100).sum())\n",
    "for nivel in niveis:\n",
    "    print(nivel, (df[df['nivel'] == nivel]['pontuacao']==100).sum())"
   ]
  },
  {
   "cell_type": "code",
   "execution_count": null,
   "metadata": {},
   "outputs": [
    {
     "name": "stdout",
     "output_type": "stream",
     "text": [
      "fase\n",
      "f2    198\n",
      "f1    190\n",
      "f3     72\n",
      "Name: count, dtype: int64\n",
      "nivel\n",
      "p2    161\n",
      "p1    128\n",
      "pj    106\n",
      "ps     65\n",
      "Name: count, dtype: int64\n",
      "[('f1', np.float64(9.473684210526317)), ('f2', np.float64(13.131313131313133)), ('f3', np.float64(8.333333333333332))]\n",
      "[('pj', np.float64(3.7735849056603774)), ('p1', np.float64(11.71875)), ('p2', np.float64(13.664596273291925)), ('ps', np.float64(13.846153846153847))]\n",
      "10.869565217391305\n"
     ]
    }
   ],
   "source": [
    "print(df['fase'].value_counts())\n",
    "print(df['nivel'].value_counts())\n",
    "fases = ['f1', 'f2', 'f3']\n",
    "niveis = ['pj', 'p1', 'p2', 'ps']\n",
    "print('Porcentagem de erro de compilação:')\n",
    "media_fases = [(fase, ((df['comp']==False) & (df['fase']==fase)).sum()/(df['fase'] == fase).sum()*100) for fase in fases]\n",
    "media_niveis = [(nivel, ((df['comp']==False) & (df['nivel']==nivel)).sum()/(df['nivel'] == nivel).sum()*100) for nivel in niveis]\n",
    "print(media_fases)\n",
    "print(media_niveis)\n",
    "print('Porcentagem geral de erro de compilação:', (df['comp']==False).sum()/len(df)*100)\n",
    "for fase in fases:\n",
    "    print(fase, ((df['comp']==False) & (df['fase']==fase)).sum())\n",
    "for nivel in niveis:\n",
    "    print(nivel, ((df['comp']==False) & (df['nivel']==nivel)).sum())"
   ]
  },
  {
   "cell_type": "code",
   "execution_count": 34,
   "metadata": {},
   "outputs": [
    {
     "name": "stdout",
     "output_type": "stream",
     "text": [
      "Porcentagem de TLE (compilados):\n",
      "[('<=200', np.int64(1), np.float64(2.0)), ('<=400', np.int64(24), np.float64(8.421052631578947)), ('>400', np.int64(19), np.float64(25.333333333333336))]\n",
      "Porcentagem geral de TLE (compilados): 10.731707317073171\n"
     ]
    }
   ],
   "source": [
    "print('Porcentagem de TLE (compilados):')\n",
    "media_enunciado = [(group, (df_comp[df_comp['len_enunciado_group'] == group].index.isin(list_TLE)).sum(), (df_comp[df_comp['len_enunciado_group'] == group].index.isin(list_TLE)).sum()/(df_comp['len_enunciado_group'] == group).sum()*100) for group in [\"<=200\", \"<=400\", \">400\"]]\n",
    "print(media_enunciado)\n",
    "\n",
    "print('Porcentagem geral de TLE (compilados):', (df_comp.index.isin(list_TLE)).sum()/len(df_comp)*100)"
   ]
  },
  {
   "cell_type": "code",
   "execution_count": 20,
   "metadata": {},
   "outputs": [
    {
     "name": "stdout",
     "output_type": "stream",
     "text": [
      "[(1, np.float64(20.0)), (2, np.float64(12.716763005780345)), (3, np.float64(9.230769230769232)), (4, np.float64(3.8461538461538463)), (5, np.float64(22.22222222222222)), (6, np.float64(0.0))]\n",
      "Porcentagem geral de TLE (entre as que compilaram): 10.731707317073171\n"
     ]
    }
   ],
   "source": [
    "print('Porcentagem de TLE (compilados):')\n",
    "media_exemplos = [(group, (df_comp[df_comp['n_exemplos'] == group].index.isin(list_TLE)).sum()/(df_comp['n_exemplos'] == group).sum()*100) for group in range(1, 7)]\n",
    "print(media_exemplos)\n",
    "\n",
    "print('Porcentagem geral de TLE (compilados):', (df_comp.index.isin(list_TLE)).sum()/len(df_comp)*100)"
   ]
  },
  {
   "cell_type": "code",
   "execution_count": 33,
   "metadata": {},
   "outputs": [
    {
     "name": "stdout",
     "output_type": "stream",
     "text": [
      "Erros + Porcentagem de erro de compilação:\n",
      "[('<=200', np.int64(4), np.float64(7.4074074074074066)), ('<=400', np.int64(31), np.float64(9.81012658227848)), ('>400', np.int64(15), np.float64(16.666666666666664))]\n"
     ]
    }
   ],
   "source": [
    "print('Erros + Porcentagem de erro de compilação:')\n",
    "media_enunciado = [(group, ((df['comp']==False) & (df['len_enunciado_group'] == group)).sum(), ((df['comp']==False) & (df['len_enunciado_group'] == group)).sum()/(df['len_enunciado_group'] == group).sum()*100) for group in [\"<=200\", \"<=400\", \">400\"]]\n",
    "print(media_enunciado)"
   ]
  },
  {
   "cell_type": "code",
   "execution_count": null,
   "metadata": {},
   "outputs": [
    {
     "name": "stdout",
     "output_type": "stream",
     "text": [
      "[(1, np.float64(16.666666666666664)), (2, np.float64(12.626262626262626)), (3, np.float64(10.550458715596331)), (4, np.float64(3.7037037037037033)), (5, np.float64(0.0)), (6, np.float64(0.0))]\n"
     ]
    }
   ],
   "source": [
    "print('Porcentagem de erro de compilação:')\n",
    "media_exemplos = [(group, ((df['comp']==False) & (df['n_exemplos'] == group)).sum()/(df['n_exemplos'] == group).sum()*100) for group in range(1, 7)]\n",
    "print(media_exemplos)"
   ]
  },
  {
   "cell_type": "code",
   "execution_count": 122,
   "metadata": {},
   "outputs": [
    {
     "data": {
      "image/png": "[encoded data removed]",
      "text/plain": [
       "<Figure size 400x400 with 1 Axes>"
      ]
     },
     "metadata": {},
     "output_type": "display_data"
    }
   ],
   "source": [
    "def plot_cdf(pontuacoes):\n",
    "    bins = [0, 25, 50, 75, 100]\n",
    "    labels = ['0', '<=25', '<=50', '<=75', '<100', '100']\n",
    "\n",
    "    counts = [\n",
    "        (pontuacoes == 0).sum(),\n",
    "        ((pontuacoes > 0) & (pontuacoes <= 25)).sum(),\n",
    "        ((pontuacoes > 25) & (pontuacoes <= 50)).sum(),\n",
    "        ((pontuacoes > 50) & (pontuacoes <= 75)).sum(),\n",
    "        ((pontuacoes > 75) & (pontuacoes < 100)).sum(),\n",
    "        (pontuacoes == 100).sum()\n",
    "    ]\n",
    "\n",
    "    total_count = len(pontuacoes)\n",
    "    percentages = [count / total_count * 100 for count in counts]\n",
    "    cumulative_percentages = np.cumsum(percentages)\n",
    "\n",
    "    # Create the plot\n",
    "    plt.figure(figsize=(4, 4))\n",
    "\n",
    "    # Bar plot (thinner and glued together)\n",
    "    bar_width = 1 \n",
    "    bar_positions = np.arange(len(labels)) \n",
    "\n",
    "    plt.bar(bar_positions, cumulative_percentages, width=bar_width, align='edge')\n",
    "\n",
    "    # Ensure the last bin is included properly in the spline interpolation\n",
    "    x_vals = bar_positions + bar_width / 2  # Adjust x positions\n",
    "    y_vals = cumulative_percentages\n",
    "\n",
    "    # Smooth trend curve using spline interpolation\n",
    "    x_smooth = np.linspace(bar_positions.min(), bar_positions.max() + bar_width, 300)\n",
    "    spl = make_interp_spline(x_vals, y_vals, k=3)  # k=3 for cubic spline\n",
    "    y_smooth = spl(x_smooth)\n",
    "\n",
    "    plt.plot(x_smooth, y_smooth, color='red', linestyle='-', linewidth=2)\n",
    "\n",
    "    # Set labels and title\n",
    "    plt.ylim(0, 101)\n",
    "    plt.xlabel(\"Pontuação (%)\")\n",
    "    plt.ylabel(\"Frequência Acumulada (%)\")\n",
    "    plt.title(\"Distribuição acumulada de pontuações\")\n",
    "    plt.xticks(bar_positions + bar_width / 2, labels, rotation=45)  # Adjust xtick positions\n",
    "    plt.grid(axis='y', linestyle='--', alpha=0.7)\n",
    "    plt.tight_layout()\n",
    "    plt.show()\n",
    "    \n",
    "pontuacoes = df[\"pontuacao\"]\n",
    "plot_cdf(pontuacoes)"
   ]
  }
 ],
 "metadata": {
  "kernelspec": {
   "display_name": "envIC",
   "language": "python",
   "name": "python3"
  },
  "language_info": {
   "codemirror_mode": {
    "name": "ipython",
    "version": 3
   },
   "file_extension": ".py",
   "mimetype": "text/x-python",
   "name": "python",
   "nbconvert_exporter": "python",
   "pygments_lexer": "ipython3",
   "version": "3.13.0"
  }
 },
 "nbformat": 4,
 "nbformat_minor": 2
}
